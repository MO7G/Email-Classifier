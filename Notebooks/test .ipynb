{
 "cells": [
  {
   "cell_type": "code",
   "execution_count": 1,
   "id": "08e603b1",
   "metadata": {},
   "outputs": [
    {
     "name": "stderr",
     "output_type": "stream",
     "text": [
      "/Users/yohajji/opt/anaconda3/lib/python3.9/site-packages/scipy/__init__.py:146: UserWarning: A NumPy version >=1.16.5 and <1.23.0 is required for this version of SciPy (detected version 1.24.3\n",
      "  warnings.warn(f\"A NumPy version >={np_minversion} and <{np_maxversion}\"\n",
      "WARNING:root:Limited tf.compat.v2.summary API due to missing TensorBoard installation.\n",
      "WARNING:root:Limited tf.compat.v2.summary API due to missing TensorBoard installation.\n",
      "WARNING:root:Limited tf.compat.v2.summary API due to missing TensorBoard installation.\n",
      "WARNING:root:Limited tf.summary API due to missing TensorBoard installation.\n",
      "WARNING:root:Limited tf.compat.v2.summary API due to missing TensorBoard installation.\n",
      "WARNING:root:Limited tf.compat.v2.summary API due to missing TensorBoard installation.\n",
      "WARNING:root:Limited tf.compat.v2.summary API due to missing TensorBoard installation.\n"
     ]
    }
   ],
   "source": [
    "import pandas as pd\n",
    "import numpy as np\n",
    "\n",
    "#Data Visualization\n",
    "import matplotlib.pyplot as plt\n",
    "\n",
    "#Text Color\n",
    "from termcolor import colored\n",
    "\n",
    "#Train Test Split\n",
    "from sklearn.model_selection import train_test_split\n",
    "\n",
    "#Model Evaluation\n",
    "from sklearn.metrics import confusion_matrix, precision_score, recall_score, accuracy_score\n",
    "from mlxtend.plotting import plot_confusion_matrix\n",
    "\n",
    "#Deep Learning\n",
    "import tensorflow as tf\n",
    "from tensorflow.keras.models import Model, Sequential\n",
    "from tensorflow.keras.layers import Embedding, LSTM, Dense, Dropout, GlobalMaxPooling1D, Bidirectional\n",
    "from tensorflow.keras.preprocessing.text import Tokenizer\n",
    "from tensorflow.keras.optimizers import Adam\n",
    "from tensorflow.keras.preprocessing.sequence import pad_sequences\n",
    "from tensorflow.keras.callbacks import ModelCheckpoint, EarlyStopping\n",
    "from tensorflow.keras.utils import plot_model"
   ]
  },
  {
   "cell_type": "code",
   "execution_count": 2,
   "id": "f88ba3b4",
   "metadata": {},
   "outputs": [
    {
     "name": "stderr",
     "output_type": "stream",
     "text": [
      "\u001b[34m\u001b[1mwandb\u001b[0m: Logging into wandb.ai. (Learn how to deploy a W&B server locally: https://wandb.me/wandb-server)\n",
      "\u001b[34m\u001b[1mwandb\u001b[0m: You can find your API key in your browser here: https://wandb.ai/authorize\n",
      "\u001b[34m\u001b[1mwandb\u001b[0m: Paste an API key from your profile and hit enter, or press ctrl+c to quit:"
     ]
    },
    {
     "name": "stdout",
     "output_type": "stream",
     "text": [
      " ········\n"
     ]
    },
    {
     "name": "stderr",
     "output_type": "stream",
     "text": [
      "\u001b[34m\u001b[1mwandb\u001b[0m: Appending key for api.wandb.ai to your netrc file: /Users/yohajji/.netrc\n"
     ]
    },
    {
     "data": {
      "text/plain": [
       "True"
      ]
     },
     "execution_count": 2,
     "metadata": {},
     "output_type": "execute_result"
    }
   ],
   "source": [
    "import wandb\n",
    "from wandb.keras import WandbCallback\n",
    "\n",
    "# Login to wandbs\n",
    "wandb.login()"
   ]
  },
  {
   "cell_type": "code",
   "execution_count": 5,
   "id": "3198b567",
   "metadata": {},
   "outputs": [],
   "source": [
    "# wandb config\n",
    "WANDB_CONFIG = {\n",
    "     'competition': 'AG News Classification Dataset', \n",
    "              '_wandb_kernel': 'neuracort'\n",
    "    }"
   ]
  },
  {
   "cell_type": "code",
   "execution_count": 7,
   "id": "c3deb71a",
   "metadata": {},
   "outputs": [
    {
     "data": {
      "text/html": [
       "<div>\n",
       "<style scoped>\n",
       "    .dataframe tbody tr th:only-of-type {\n",
       "        vertical-align: middle;\n",
       "    }\n",
       "\n",
       "    .dataframe tbody tr th {\n",
       "        vertical-align: top;\n",
       "    }\n",
       "\n",
       "    .dataframe thead th {\n",
       "        text-align: right;\n",
       "    }\n",
       "</style>\n",
       "<table border=\"1\" class=\"dataframe\">\n",
       "  <thead>\n",
       "    <tr style=\"text-align: right;\">\n",
       "      <th></th>\n",
       "      <th>ClassIndex</th>\n",
       "      <th>Title</th>\n",
       "      <th>Description</th>\n",
       "    </tr>\n",
       "  </thead>\n",
       "  <tbody>\n",
       "    <tr>\n",
       "      <th>0</th>\n",
       "      <td>3</td>\n",
       "      <td>Wall St. Bears Claw Back Into the Black (Reuters)</td>\n",
       "      <td>Reuters - Short-sellers, Wall Street's dwindli...</td>\n",
       "    </tr>\n",
       "    <tr>\n",
       "      <th>1</th>\n",
       "      <td>3</td>\n",
       "      <td>Carlyle Looks Toward Commercial Aerospace (Reu...</td>\n",
       "      <td>Reuters - Private investment firm Carlyle Grou...</td>\n",
       "    </tr>\n",
       "    <tr>\n",
       "      <th>2</th>\n",
       "      <td>3</td>\n",
       "      <td>Oil and Economy Cloud Stocks' Outlook (Reuters)</td>\n",
       "      <td>Reuters - Soaring crude prices plus worries\\ab...</td>\n",
       "    </tr>\n",
       "    <tr>\n",
       "      <th>3</th>\n",
       "      <td>3</td>\n",
       "      <td>Iraq Halts Oil Exports from Main Southern Pipe...</td>\n",
       "      <td>Reuters - Authorities have halted oil export\\f...</td>\n",
       "    </tr>\n",
       "    <tr>\n",
       "      <th>4</th>\n",
       "      <td>3</td>\n",
       "      <td>Oil prices soar to all-time record, posing new...</td>\n",
       "      <td>AFP - Tearaway world oil prices, toppling reco...</td>\n",
       "    </tr>\n",
       "  </tbody>\n",
       "</table>\n",
       "</div>"
      ],
      "text/plain": [
       "   ClassIndex                                              Title   \n",
       "0           3  Wall St. Bears Claw Back Into the Black (Reuters)  \\\n",
       "1           3  Carlyle Looks Toward Commercial Aerospace (Reu...   \n",
       "2           3    Oil and Economy Cloud Stocks' Outlook (Reuters)   \n",
       "3           3  Iraq Halts Oil Exports from Main Southern Pipe...   \n",
       "4           3  Oil prices soar to all-time record, posing new...   \n",
       "\n",
       "                                         Description  \n",
       "0  Reuters - Short-sellers, Wall Street's dwindli...  \n",
       "1  Reuters - Private investment firm Carlyle Grou...  \n",
       "2  Reuters - Soaring crude prices plus worries\\ab...  \n",
       "3  Reuters - Authorities have halted oil export\\f...  \n",
       "4  AFP - Tearaway world oil prices, toppling reco...  "
      ]
     },
     "execution_count": 7,
     "metadata": {},
     "output_type": "execute_result"
    }
   ],
   "source": [
    "#File Path\n",
    "TRAIN_FILE_PATH = 'train.csv'\n",
    "TEST_FILE_PATH = 'test.csv'\n",
    "\n",
    "#Load Data\n",
    "data = pd.read_csv(TRAIN_FILE_PATH)\n",
    "testdata = pd.read_csv(TEST_FILE_PATH)\n",
    "\n",
    "#Set Column Names \n",
    "data.columns = ['ClassIndex', 'Title', 'Description']\n",
    "testdata.columns = ['ClassIndex', 'Title', 'Description']\n",
    "\n",
    "#Combine Title and Description\n",
    "X_train = data['Title'] + \" \" + data['Description'] # Combine title and description (better accuracy than using them as separate features)\n",
    "y_train = data['ClassIndex'].apply(lambda x: x-1).values # Class labels need to begin from 0\n",
    "\n",
    "x_test = testdata['Title'] + \" \" + testdata['Description'] # Combine title and description (better accuracy than using them as separate features)\n",
    "y_test = testdata['ClassIndex'].apply(lambda x: x-1).values # Class labels need to begin from 0\n",
    "\n",
    "#Max Length of sentences in Train Dataset\n",
    "maxlen = X_train.map(lambda x: len(x.split())).max()\n",
    "data.head()"
   ]
  },
  {
   "cell_type": "code",
   "execution_count": 8,
   "id": "f286a110",
   "metadata": {},
   "outputs": [],
   "source": [
    "vocab_size = 10000 # arbitrarily chosen\n",
    "embed_size = 32 # arbitrarily chosen\n",
    "\n",
    "# Create and Fit tokenizer\n",
    "tok = Tokenizer(num_words=vocab_size)\n",
    "tok.fit_on_texts(X_train.values)\n",
    "\n",
    "# Tokenize data\n",
    "X_train = tok.texts_to_sequences(X_train)\n",
    "x_test = tok.texts_to_sequences(x_test)\n",
    "\n",
    "# Pad data\n",
    "X_train = pad_sequences(X_train, maxlen=maxlen)\n",
    "x_test = pad_sequences(x_test, maxlen=maxlen)"
   ]
  },
  {
   "cell_type": "code",
   "execution_count": 9,
   "id": "b102d748",
   "metadata": {},
   "outputs": [
    {
     "name": "stderr",
     "output_type": "stream",
     "text": [
      "\u001b[34m\u001b[1mwandb\u001b[0m: Currently logged in as: \u001b[33mmohd-alhajj1913\u001b[0m (\u001b[33mjjjjjjjj\u001b[0m). Use \u001b[1m`wandb login --relogin`\u001b[0m to force relogin\n",
      "/Users/yohajji/opt/anaconda3/lib/python3.9/site-packages/scipy/__init__.py:146: UserWarning: A NumPy version >=1.16.5 and <1.23.0 is required for this version of SciPy (detected version 1.24.3\n",
      "  warnings.warn(f\"A NumPy version >={np_minversion} and <{np_maxversion}\"\n"
     ]
    },
    {
     "data": {
      "text/html": [
       "Tracking run with wandb version 0.15.3"
      ],
      "text/plain": [
       "<IPython.core.display.HTML object>"
      ]
     },
     "metadata": {},
     "output_type": "display_data"
    },
    {
     "data": {
      "text/html": [
       "Run data is saved locally in <code>/Users/yohajji/Desktop/Untitled Folder/wandb/run-20230520_053336-uap1z9h1</code>"
      ],
      "text/plain": [
       "<IPython.core.display.HTML object>"
      ]
     },
     "metadata": {},
     "output_type": "display_data"
    },
    {
     "data": {
      "text/html": [
       "Syncing run <strong><a href='https://wandb.ai/jjjjjjjj/ag-news/runs/uap1z9h1' target=\"_blank\">resilient-energy-1</a></strong> to <a href='https://wandb.ai/jjjjjjjj/ag-news' target=\"_blank\">Weights & Biases</a> (<a href='https://wandb.me/run' target=\"_blank\">docs</a>)<br/>"
      ],
      "text/plain": [
       "<IPython.core.display.HTML object>"
      ]
     },
     "metadata": {},
     "output_type": "display_data"
    },
    {
     "data": {
      "text/html": [
       " View project at <a href='https://wandb.ai/jjjjjjjj/ag-news' target=\"_blank\">https://wandb.ai/jjjjjjjj/ag-news</a>"
      ],
      "text/plain": [
       "<IPython.core.display.HTML object>"
      ]
     },
     "metadata": {},
     "output_type": "display_data"
    },
    {
     "data": {
      "text/html": [
       " View run at <a href='https://wandb.ai/jjjjjjjj/ag-news/runs/uap1z9h1' target=\"_blank\">https://wandb.ai/jjjjjjjj/ag-news/runs/uap1z9h1</a>"
      ],
      "text/plain": [
       "<IPython.core.display.HTML object>"
      ]
     },
     "metadata": {},
     "output_type": "display_data"
    }
   ],
   "source": [
    "run = wandb.init(project='ag-news', config= WANDB_CONFIG)\n"
   ]
  },
  {
   "cell_type": "code",
   "execution_count": 10,
   "id": "1324da12",
   "metadata": {},
   "outputs": [
    {
     "name": "stdout",
     "output_type": "stream",
     "text": [
      "Model: \"sequential\"\n",
      "_________________________________________________________________\n",
      " Layer (type)                Output Shape              Param #   \n",
      "=================================================================\n",
      " embedding (Embedding)       (None, 177, 32)           320000    \n",
      "                                                                 \n",
      " bidirectional (Bidirectiona  (None, 177, 256)         164864    \n",
      " l)                                                              \n",
      "                                                                 \n",
      " bidirectional_1 (Bidirectio  (None, 177, 128)         164352    \n",
      " nal)                                                            \n",
      "                                                                 \n",
      " global_max_pooling1d (Globa  (None, 128)              0         \n",
      " lMaxPooling1D)                                                  \n",
      "                                                                 \n",
      " dense (Dense)               (None, 1024)              132096    \n",
      "                                                                 \n",
      " dropout (Dropout)           (None, 1024)              0         \n",
      "                                                                 \n",
      " dense_1 (Dense)             (None, 512)               524800    \n",
      "                                                                 \n",
      " dropout_1 (Dropout)         (None, 512)               0         \n",
      "                                                                 \n",
      " dense_2 (Dense)             (None, 256)               131328    \n",
      "                                                                 \n",
      " dropout_2 (Dropout)         (None, 256)               0         \n",
      "                                                                 \n",
      " dense_3 (Dense)             (None, 128)               32896     \n",
      "                                                                 \n",
      " dropout_3 (Dropout)         (None, 128)               0         \n",
      "                                                                 \n",
      " dense_4 (Dense)             (None, 64)                8256      \n",
      "                                                                 \n",
      " dropout_4 (Dropout)         (None, 64)                0         \n",
      "                                                                 \n",
      " dense_5 (Dense)             (None, 4)                 260       \n",
      "                                                                 \n",
      "=================================================================\n",
      "Total params: 1,478,852\n",
      "Trainable params: 1,478,852\n",
      "Non-trainable params: 0\n",
      "_________________________________________________________________\n"
     ]
    }
   ],
   "source": [
    "model = Sequential()\n",
    "model.add(Embedding(vocab_size, embed_size, input_length=maxlen))\n",
    "model.add(Bidirectional(LSTM(128, return_sequences=True))) \n",
    "model.add(Bidirectional(LSTM(64, return_sequences=True)))\n",
    "model.add(GlobalMaxPooling1D()) #Pooling Layer decreases sensitivity to features, thereby creating more generalised data for better test results.\n",
    "model.add(Dense(1024))\n",
    "model.add(Dropout(0.25)) #Dropout layer nullifies certain random input values to generate a more general dataset and prevent the problem of overfitting.\n",
    "model.add(Dense(512))\n",
    "model.add(Dropout(0.25))\n",
    "model.add(Dense(256))\n",
    "model.add(Dropout(0.25))\n",
    "model.add(Dense(128))\n",
    "model.add(Dropout(0.25))\n",
    "model.add(Dense(64))\n",
    "model.add(Dropout(0.25))\n",
    "model.add(Dense(4, activation='softmax')) #softmax is used as the activation function for multi-class classification problems where class membership is required on more than two class labels.\n",
    "model.summary()"
   ]
  },
  {
   "cell_type": "code",
   "execution_count": 11,
   "id": "030b016d",
   "metadata": {},
   "outputs": [
    {
     "name": "stderr",
     "output_type": "stream",
     "text": [
      "\u001b[34m\u001b[1mwandb\u001b[0m: \u001b[33mWARNING\u001b[0m The save_model argument by default saves the model in the HDF5 format that cannot save custom objects like subclassed models and custom layers. This behavior will be deprecated in a future release in favor of the SavedModel format. Meanwhile, the HDF5 model is saved as W&B files and the SavedModel as W&B Artifacts.\n"
     ]
    }
   ],
   "source": [
    "callbacks = [\n",
    "    EarlyStopping(     #EarlyStopping is used to stop at the epoch where val_accuracy does not improve significantly\n",
    "        monitor='val_accuracy',\n",
    "        min_delta=1e-4,\n",
    "        patience=4,\n",
    "        verbose=1\n",
    "    ),\n",
    "    ModelCheckpoint(\n",
    "        filepath='weights.h5',\n",
    "        monitor='val_accuracy', \n",
    "        mode='max', \n",
    "        save_best_only=True,\n",
    "        save_weights_only=True,\n",
    "        verbose=1\n",
    "    ),\n",
    "    WandbCallback()\n",
    "]"
   ]
  },
  {
   "cell_type": "code",
   "execution_count": 12,
   "id": "7d28d84b",
   "metadata": {},
   "outputs": [
    {
     "name": "stdout",
     "output_type": "stream",
     "text": [
      "Epoch 1/20\n"
     ]
    },
    {
     "name": "stderr",
     "output_type": "stream",
     "text": [
      "2023-05-20 05:34:56.999064: W tensorflow/core/platform/profile_utils/cpu_utils.cc:128] Failed to get CPU frequency: 0 Hz\n"
     ]
    },
    {
     "name": "stdout",
     "output_type": "stream",
     "text": [
      "469/469 [==============================] - ETA: 0s - loss: 0.3943 - accuracy: 0.8549\n",
      "Epoch 1: val_accuracy improved from -inf to 0.90329, saving model to weights.h5\n"
     ]
    },
    {
     "name": "stderr",
     "output_type": "stream",
     "text": [
      "WARNING:absl:Found untraced functions such as lstm_cell_1_layer_call_fn, lstm_cell_1_layer_call_and_return_conditional_losses, lstm_cell_2_layer_call_fn, lstm_cell_2_layer_call_and_return_conditional_losses, lstm_cell_4_layer_call_fn while saving (showing 5 of 8). These functions will not be directly callable after loading.\n"
     ]
    },
    {
     "name": "stdout",
     "output_type": "stream",
     "text": [
      "INFO:tensorflow:Assets written to: /Users/yohajji/Desktop/Untitled Folder/wandb/run-20230520_053336-uap1z9h1/files/model-best/assets\n"
     ]
    },
    {
     "name": "stderr",
     "output_type": "stream",
     "text": [
      "INFO:tensorflow:Assets written to: /Users/yohajji/Desktop/Untitled Folder/wandb/run-20230520_053336-uap1z9h1/files/model-best/assets\n",
      "\u001b[34m\u001b[1mwandb\u001b[0m: Adding directory to artifact (/Users/yohajji/Desktop/Untitled Folder/wandb/run-20230520_053336-uap1z9h1/files/model-best)... Done. 0.1s\n"
     ]
    },
    {
     "name": "stdout",
     "output_type": "stream",
     "text": [
      "469/469 [==============================] - 465s 984ms/step - loss: 0.3943 - accuracy: 0.8549 - val_loss: 0.2890 - val_accuracy: 0.9033\n",
      "Epoch 2/20\n",
      "469/469 [==============================] - ETA: 0s - loss: 0.2364 - accuracy: 0.9215\n",
      "Epoch 2: val_accuracy improved from 0.90329 to 0.90750, saving model to weights.h5\n"
     ]
    },
    {
     "name": "stderr",
     "output_type": "stream",
     "text": [
      "WARNING:absl:Found untraced functions such as lstm_cell_1_layer_call_fn, lstm_cell_1_layer_call_and_return_conditional_losses, lstm_cell_2_layer_call_fn, lstm_cell_2_layer_call_and_return_conditional_losses, lstm_cell_4_layer_call_fn while saving (showing 5 of 8). These functions will not be directly callable after loading.\n"
     ]
    },
    {
     "name": "stdout",
     "output_type": "stream",
     "text": [
      "INFO:tensorflow:Assets written to: /Users/yohajji/Desktop/Untitled Folder/wandb/run-20230520_053336-uap1z9h1/files/model-best/assets\n"
     ]
    },
    {
     "name": "stderr",
     "output_type": "stream",
     "text": [
      "INFO:tensorflow:Assets written to: /Users/yohajji/Desktop/Untitled Folder/wandb/run-20230520_053336-uap1z9h1/files/model-best/assets\n",
      "\u001b[34m\u001b[1mwandb\u001b[0m: Adding directory to artifact (/Users/yohajji/Desktop/Untitled Folder/wandb/run-20230520_053336-uap1z9h1/files/model-best)... Done. 0.0s\n"
     ]
    },
    {
     "name": "stdout",
     "output_type": "stream",
     "text": [
      "469/469 [==============================] - 398s 848ms/step - loss: 0.2364 - accuracy: 0.9215 - val_loss: 0.2803 - val_accuracy: 0.9075\n",
      "Epoch 3/20\n",
      "469/469 [==============================] - ETA: 0s - loss: 0.1977 - accuracy: 0.9332\n",
      "Epoch 3: val_accuracy improved from 0.90750 to 0.91145, saving model to weights.h5\n"
     ]
    },
    {
     "name": "stderr",
     "output_type": "stream",
     "text": [
      "WARNING:absl:Found untraced functions such as lstm_cell_1_layer_call_fn, lstm_cell_1_layer_call_and_return_conditional_losses, lstm_cell_2_layer_call_fn, lstm_cell_2_layer_call_and_return_conditional_losses, lstm_cell_4_layer_call_fn while saving (showing 5 of 8). These functions will not be directly callable after loading.\n"
     ]
    },
    {
     "name": "stdout",
     "output_type": "stream",
     "text": [
      "INFO:tensorflow:Assets written to: /Users/yohajji/Desktop/Untitled Folder/wandb/run-20230520_053336-uap1z9h1/files/model-best/assets\n"
     ]
    },
    {
     "name": "stderr",
     "output_type": "stream",
     "text": [
      "INFO:tensorflow:Assets written to: /Users/yohajji/Desktop/Untitled Folder/wandb/run-20230520_053336-uap1z9h1/files/model-best/assets\n",
      "\u001b[34m\u001b[1mwandb\u001b[0m: Adding directory to artifact (/Users/yohajji/Desktop/Untitled Folder/wandb/run-20230520_053336-uap1z9h1/files/model-best)... Done. 0.0s\n"
     ]
    },
    {
     "name": "stdout",
     "output_type": "stream",
     "text": [
      "469/469 [==============================] - 422s 899ms/step - loss: 0.1977 - accuracy: 0.9332 - val_loss: 0.2783 - val_accuracy: 0.9114\n",
      "Epoch 4/20\n",
      "469/469 [==============================] - ETA: 0s - loss: 0.1661 - accuracy: 0.9430\n",
      "Epoch 4: val_accuracy did not improve from 0.91145\n",
      "469/469 [==============================] - 404s 862ms/step - loss: 0.1661 - accuracy: 0.9430 - val_loss: 0.3047 - val_accuracy: 0.9078\n",
      "Epoch 5/20\n",
      "469/469 [==============================] - ETA: 0s - loss: 0.1395 - accuracy: 0.9514\n",
      "Epoch 5: val_accuracy did not improve from 0.91145\n",
      "469/469 [==============================] - 414s 883ms/step - loss: 0.1395 - accuracy: 0.9514 - val_loss: 0.3090 - val_accuracy: 0.9062\n",
      "Epoch 6/20\n",
      "469/469 [==============================] - ETA: 0s - loss: 0.1128 - accuracy: 0.9605\n",
      "Epoch 6: val_accuracy did not improve from 0.91145\n",
      "469/469 [==============================] - 417s 888ms/step - loss: 0.1128 - accuracy: 0.9605 - val_loss: 0.3443 - val_accuracy: 0.9061\n",
      "Epoch 7/20\n",
      "469/469 [==============================] - ETA: 0s - loss: 0.0867 - accuracy: 0.9701\n",
      "Epoch 7: val_accuracy did not improve from 0.91145\n",
      "469/469 [==============================] - 413s 880ms/step - loss: 0.0867 - accuracy: 0.9701 - val_loss: 0.3501 - val_accuracy: 0.9063\n",
      "Epoch 7: early stopping\n"
     ]
    },
    {
     "data": {
      "text/html": [
       "Waiting for W&B process to finish... <strong style=\"color:green\">(success).</strong>"
      ],
      "text/plain": [
       "<IPython.core.display.HTML object>"
      ]
     },
     "metadata": {},
     "output_type": "display_data"
    },
    {
     "name": "stderr",
     "output_type": "stream",
     "text": [
      "\u001b[34m\u001b[1mwandb\u001b[0m: \u001b[32m\u001b[41mERROR\u001b[0m Control-C detected -- Run data was not synced\n"
     ]
    }
   ],
   "source": [
    "#Compile and Fit Model\n",
    "\n",
    "model.compile(loss='sparse_categorical_crossentropy', #Sparse Categorical Crossentropy Loss because data is not one-hot encoded\n",
    "              optimizer='adam', \n",
    "              metrics=['accuracy']) \n",
    "\n",
    "model.fit(X_train, \n",
    "          y_train, \n",
    "          batch_size=256, \n",
    "          validation_data=(x_test, y_test), \n",
    "          epochs=20, \n",
    "          callbacks=callbacks)\n",
    "\n",
    "# Close W&B run\n",
    "wandb.finish()"
   ]
  },
  {
   "cell_type": "code",
   "execution_count": 31,
   "id": "1ccefae8",
   "metadata": {},
   "outputs": [],
   "source": [
    "model.load_weights('weights.h5')\n",
    "model.save('finalModelfinall.h5')"
   ]
  },
  {
   "cell_type": "code",
   "execution_count": 14,
   "id": "6a3b98db",
   "metadata": {},
   "outputs": [],
   "source": [
    "def modelDemo(news_text):\n",
    "                \n",
    "  #News Labels\n",
    "  labels = ['World News', 'Sports News', 'Business News', 'Science-Technology News']\n",
    "\n",
    "  test_seq = pad_sequences(tok.texts_to_sequences(news_text), maxlen=maxlen)\n",
    "\n",
    "  test_preds = [labels[np.argmax(i)] for i in model.predict(test_seq)]\n",
    "\n",
    "  for news, label in zip(news_text, test_preds):\n",
    "      # print('{} - {}'.format(news, label))\n",
    "      print('{} - {}'.format(colored(news, 'yellow'), colored(label, 'blue')))"
   ]
  },
  {
   "cell_type": "code",
   "execution_count": 28,
   "id": "d86a388c",
   "metadata": {},
   "outputs": [
    {
     "name": "stdout",
     "output_type": "stream",
     "text": [
      "enterTechnology has revolutionized the way we live, work, and connect with the world around us. It has become an integral part of our daily lives, shaping every aspect of society. From the rapid advancements in artificial intelligence to the seamless integration of smart devices, the world of technology is a captivating and ever-evolving landscape.  In today's digital age, innovation is the driving force behind technological breakthroughs. Brilliant minds are constantly pushing the boundaries of what is possible, creating futuristic marvels that once seemed like mere science fiction. Whether it's the development of self-driving cars, the exploration of virtual reality, or the limitless possibilities of the Internet of Things, technology continues to astound us with its boundless potential.  The impact of technology reaches far and wide, transforming industries and opening up new frontiers.\n",
      "1/1 [==============================] - 0s 28ms/step\n",
      "\u001b[33mTechnology has revolutionized the way we live, work, and connect with the world around us. It has become an integral part of our daily lives, shaping every aspect of society. From the rapid advancements in artificial intelligence to the seamless integration of smart devices, the world of technology is a captivating and ever-evolving landscape.  In today's digital age, innovation is the driving force behind technological breakthroughs. Brilliant minds are constantly pushing the boundaries of what is possible, creating futuristic marvels that once seemed like mere science fiction. Whether it's the development of self-driving cars, the exploration of virtual reality, or the limitless possibilities of the Internet of Things, technology continues to astound us with its boundless potential.  The impact of technology reaches far and wide, transforming industries and opening up new frontiers.\u001b[0m - \u001b[34mScience-Technology News\u001b[0m\n"
     ]
    }
   ],
   "source": [
    "okay = input(\"enter\")\n",
    "modelDemo([okay])"
   ]
  },
  {
   "cell_type": "code",
   "execution_count": 32,
   "id": "137c3a26",
   "metadata": {},
   "outputs": [
    {
     "ename": "AttributeError",
     "evalue": "'Sequential' object has no attribute 'format'",
     "output_type": "error",
     "traceback": [
      "\u001b[0;31m---------------------------------------------------------------------------\u001b[0m",
      "\u001b[0;31mAttributeError\u001b[0m                            Traceback (most recent call last)",
      "Input \u001b[0;32mIn [32]\u001b[0m, in \u001b[0;36m<cell line: 3>\u001b[0;34m()\u001b[0m\n\u001b[1;32m      1\u001b[0m \u001b[38;5;28;01mfrom\u001b[39;00m \u001b[38;5;21;01mscipy\u001b[39;00m \u001b[38;5;28;01mimport\u001b[39;00m sparse\n\u001b[0;32m----> 3\u001b[0m \u001b[43msparse\u001b[49m\u001b[38;5;241;43m.\u001b[39;49m\u001b[43msave_npz\u001b[49m\u001b[43m(\u001b[49m\u001b[38;5;124;43m\"\u001b[39;49m\u001b[38;5;124;43myourmatrix.npz\u001b[39;49m\u001b[38;5;124;43m\"\u001b[39;49m\u001b[43m,\u001b[49m\u001b[43m \u001b[49m\u001b[43mmodel\u001b[49m\u001b[43m)\u001b[49m\n\u001b[1;32m      4\u001b[0m your_matrix_back \u001b[38;5;241m=\u001b[39m sparse\u001b[38;5;241m.\u001b[39mload_npz(\u001b[38;5;124m\"\u001b[39m\u001b[38;5;124myourmatrix.npz\u001b[39m\u001b[38;5;124m\"\u001b[39m)\n",
      "File \u001b[0;32m~/opt/anaconda3/lib/python3.9/site-packages/scipy/sparse/_matrix_io.py:56\u001b[0m, in \u001b[0;36msave_npz\u001b[0;34m(file, matrix, compressed)\u001b[0m\n\u001b[1;32m     12\u001b[0m \u001b[38;5;124;03m\"\"\" Save a sparse matrix to a file using ``.npz`` format.\u001b[39;00m\n\u001b[1;32m     13\u001b[0m \n\u001b[1;32m     14\u001b[0m \u001b[38;5;124;03mParameters\u001b[39;00m\n\u001b[0;32m   (...)\u001b[0m\n\u001b[1;32m     53\u001b[0m \u001b[38;5;124;03m        [4, 0, 0]], dtype=int64)\u001b[39;00m\n\u001b[1;32m     54\u001b[0m \u001b[38;5;124;03m\"\"\"\u001b[39;00m\n\u001b[1;32m     55\u001b[0m arrays_dict \u001b[38;5;241m=\u001b[39m {}\n\u001b[0;32m---> 56\u001b[0m \u001b[38;5;28;01mif\u001b[39;00m \u001b[43mmatrix\u001b[49m\u001b[38;5;241;43m.\u001b[39;49m\u001b[43mformat\u001b[49m \u001b[38;5;129;01min\u001b[39;00m (\u001b[38;5;124m'\u001b[39m\u001b[38;5;124mcsc\u001b[39m\u001b[38;5;124m'\u001b[39m, \u001b[38;5;124m'\u001b[39m\u001b[38;5;124mcsr\u001b[39m\u001b[38;5;124m'\u001b[39m, \u001b[38;5;124m'\u001b[39m\u001b[38;5;124mbsr\u001b[39m\u001b[38;5;124m'\u001b[39m):\n\u001b[1;32m     57\u001b[0m     arrays_dict\u001b[38;5;241m.\u001b[39mupdate(indices\u001b[38;5;241m=\u001b[39mmatrix\u001b[38;5;241m.\u001b[39mindices, indptr\u001b[38;5;241m=\u001b[39mmatrix\u001b[38;5;241m.\u001b[39mindptr)\n\u001b[1;32m     58\u001b[0m \u001b[38;5;28;01melif\u001b[39;00m matrix\u001b[38;5;241m.\u001b[39mformat \u001b[38;5;241m==\u001b[39m \u001b[38;5;124m'\u001b[39m\u001b[38;5;124mdia\u001b[39m\u001b[38;5;124m'\u001b[39m:\n",
      "\u001b[0;31mAttributeError\u001b[0m: 'Sequential' object has no attribute 'format'"
     ]
    }
   ],
   "source": []
  },
  {
   "cell_type": "code",
   "execution_count": 16,
   "id": "136566b1",
   "metadata": {},
   "outputs": [
    {
     "data": {
      "text/plain": [
       "177"
      ]
     },
     "execution_count": 16,
     "metadata": {},
     "output_type": "execute_result"
    }
   ],
   "source": [
    "maxlen"
   ]
  },
  {
   "cell_type": "code",
   "execution_count": 17,
   "id": "1dde69d2",
   "metadata": {},
   "outputs": [
    {
     "name": "stdout",
     "output_type": "stream",
     "text": [
      "238/238 [==============================] - 19s 79ms/step\n"
     ]
    },
    {
     "data": {
      "text/plain": [
       "<Figure size 432x288 with 0 Axes>"
      ]
     },
     "metadata": {},
     "output_type": "display_data"
    },
    {
     "data": {
      "image/png": "[encoded data removed]",
      "text/plain": [
       "<Figure size 1152x864 with 1 Axes>"
      ]
     },
     "metadata": {
      "needs_background": "light"
     },
     "output_type": "display_data"
    }
   ],
   "source": [
    "labels = ['World News', 'Sports News', 'Business News', 'Science-Technology News']\n",
    "preds = [np.argmax(i) for i in model.predict(x_test)]\n",
    "cm  = confusion_matrix(y_test, preds)\n",
    "plt.figure()\n",
    "plot_confusion_matrix(cm, figsize=(16,12), hide_ticks=True, cmap=plt.cm.Blues)\n",
    "plt.xticks(range(4), labels, fontsize=12)\n",
    "plt.yticks(range(4), labels, fontsize=12)\n",
    "plt.show()"
   ]
  },
  {
   "cell_type": "code",
   "execution_count": 19,
   "id": "2f9a8cc4",
   "metadata": {},
   "outputs": [
    {
     "ename": "NameError",
     "evalue": "name 'history' is not defined",
     "output_type": "error",
     "traceback": [
      "\u001b[0;31m---------------------------------------------------------------------------\u001b[0m",
      "\u001b[0;31mNameError\u001b[0m                                 Traceback (most recent call last)",
      "Input \u001b[0;32mIn [19]\u001b[0m, in \u001b[0;36m<cell line: 3>\u001b[0;34m()\u001b[0m\n\u001b[1;32m      1\u001b[0m \u001b[38;5;28;01mimport\u001b[39;00m \u001b[38;5;21;01mpandas\u001b[39;00m \u001b[38;5;28;01mas\u001b[39;00m \u001b[38;5;21;01mpd\u001b[39;00m\n\u001b[0;32m----> 3\u001b[0m hist_df \u001b[38;5;241m=\u001b[39m pd\u001b[38;5;241m.\u001b[39mDataFrame(\u001b[43mhistory\u001b[49m\u001b[38;5;241m.\u001b[39mhistory)\n",
      "\u001b[0;31mNameError\u001b[0m: name 'history' is not defined"
     ]
    }
   ],
   "source": []
  },
  {
   "cell_type": "code",
   "execution_count": null,
   "id": "4b44e2c9",
   "metadata": {},
   "outputs": [],
   "source": []
  }
 ],
 "metadata": {
  "kernelspec": {
   "display_name": "Python 3 (ipykernel)",
   "language": "python",
   "name": "python3"
  },
  "language_info": {
   "codemirror_mode": {
    "name": "ipython",
    "version": 3
   },
   "file_extension": ".py",
   "mimetype": "text/x-python",
   "name": "python",
   "nbconvert_exporter": "python",
   "pygments_lexer": "ipython3",
   "version": "3.9.12"
  }
 },
 "nbformat": 4,
 "nbformat_minor": 5
}
