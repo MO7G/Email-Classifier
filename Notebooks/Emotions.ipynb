{
 "cells": [
  {
   "cell_type": "code",
   "execution_count": 1,
   "id": "84fc2cae",
   "metadata": {},
   "outputs": [],
   "source": [
    "import numpy as np # It provides efficient data structures for handling large arrays and matrices\n",
    "import pandas as pd # used for data manipulation(tabular data)\n",
    "import nltk #(Natural Language Toolkit(atural language processing(tokenization, stemming))\n",
    "from nltk.corpus import stopwords # module common words Natural Language (as,is ,and)\n",
    "from nltk.stem import WordNetLemmatizer #module provides functionality for lemmatizing words in natural language processing(dogs to dog). \n",
    "import gensim.downloader as api # which are useful for various NLP tasks like text classification, sentiment analysis\n",
    "import tensorflow as tf\n",
    "from tensorflow.keras.preprocessing.text import Tokenizer #used to ensure that all input sequences have the same length.\n",
    "from keras_preprocessing.sequence import pad_sequences\n",
    "from tensorflow import keras\n",
    "from tensorflow.keras.models import Sequential\n",
    "from tensorflow.keras.layers import Embedding,LSTM,Dense,Dropout,Activation\n",
    "from sklearn.model_selection import train_test_split\n",
    "from tensorflow.keras.callbacks import EarlyStopping\n"
   ]
  },
  {
   "cell_type": "code",
   "execution_count": 4,
   "id": "aecc7676",
   "metadata": {},
   "outputs": [
    {
     "name": "stderr",
     "output_type": "stream",
     "text": [
      "[nltk_data] Downloading package omw-1.4 to\n",
      "[nltk_data]     C:\\Users\\DELL\\AppData\\Roaming\\nltk_data...\n",
      "[nltk_data]   Package omw-1.4 is already up-to-date!\n"
     ]
    },
    {
     "data": {
      "text/plain": [
       "True"
      ]
     },
     "execution_count": 4,
     "metadata": {},
     "output_type": "execute_result"
    }
   ],
   "source": [
    "import nltk\n",
    "nltk.download('omw-1.4')"
   ]
  },
  {
   "cell_type": "code",
   "execution_count": 5,
   "id": "958cc8aa",
   "metadata": {},
   "outputs": [
    {
     "name": "stderr",
     "output_type": "stream",
     "text": [
      "[nltk_data] Downloading package stopwords to\n",
      "[nltk_data]     C:\\Users\\DELL\\AppData\\Roaming\\nltk_data...\n",
      "[nltk_data]   Package stopwords is already up-to-date!\n",
      "[nltk_data] Downloading package wordnet to\n",
      "[nltk_data]     C:\\Users\\DELL\\AppData\\Roaming\\nltk_data...\n",
      "[nltk_data]   Package wordnet is already up-to-date!\n"
     ]
    }
   ],
   "source": [
    "#import the libraries and download the necessary data:\n",
    "nltk.download('stopwords')#This line downloads the NLTK stopwords(and ,is ,a)\n",
    "nltk.download('wordnet')#This line downloads the WordNet , which is a lexical database for the English (nouns, verbs, adjectives and adverbs )\n",
    "\n",
    "stop_words = stopwords.words('english') # used retrieves the list of English stopwords from NLTK and remove move common words from text\n",
    "lemmatizer = WordNetLemmatizer()#helpful for text normalization and improving text analysis.create object lemmatizer\n",
    "glove_vectors = api.load(\"glove-wiki-gigaword-300\")"
   ]
  },
  {
   "cell_type": "code",
   "execution_count": 6,
   "id": "079cc83c",
   "metadata": {},
   "outputs": [],
   "source": [
    "def get_embedding(word):\n",
    "    try:\n",
    "        return glove_vectors[word] #returns the corresponding pre-trained GloVe word embedding vector for that word. \n",
    "    except KeyError:\n",
    "        return None # is not present in the glove_vectors object"
   ]
  },
  {
   "cell_type": "code",
   "execution_count": 7,
   "id": "6236c09e",
   "metadata": {},
   "outputs": [],
   "source": [
    "#define your functions for text preprocessing:\n",
    "def preprocess_text(text):\n",
    "    text = text.lower()#This line converts the text to lowercase\n",
    "    text = \" \".join([word for word in text.split() if word not in stop_words]) #this line splits the text into individual words then iterates over each word if the word is not present \n",
    "    text = \" \".join([lemmatizer.lemmatize(word) for word in text.split()])#This line splits the preprocessed text into individual words then then applies lemmatization to each word \n",
    "    return text"
   ]
  },
  {
   "cell_type": "code",
   "execution_count": 8,
   "id": "e2be09b2",
   "metadata": {},
   "outputs": [
    {
     "data": {
      "text/html": [
       "<div>\n",
       "<style scoped>\n",
       "    .dataframe tbody tr th:only-of-type {\n",
       "        vertical-align: middle;\n",
       "    }\n",
       "\n",
       "    .dataframe tbody tr th {\n",
       "        vertical-align: top;\n",
       "    }\n",
       "\n",
       "    .dataframe thead th {\n",
       "        text-align: right;\n",
       "    }\n",
       "</style>\n",
       "<table border=\"1\" class=\"dataframe\">\n",
       "  <thead>\n",
       "    <tr style=\"text-align: right;\">\n",
       "      <th></th>\n",
       "      <th>ID</th>\n",
       "      <th>sentiment</th>\n",
       "      <th>content</th>\n",
       "    </tr>\n",
       "  </thead>\n",
       "  <tbody>\n",
       "    <tr>\n",
       "      <th>0</th>\n",
       "      <td>10941</td>\n",
       "      <td>anger</td>\n",
       "      <td>At the point today where if someone says somet...</td>\n",
       "    </tr>\n",
       "    <tr>\n",
       "      <th>1</th>\n",
       "      <td>10942</td>\n",
       "      <td>anger</td>\n",
       "      <td>@CorningFootball  IT'S GAME DAY!!!!      T MIN...</td>\n",
       "    </tr>\n",
       "    <tr>\n",
       "      <th>2</th>\n",
       "      <td>10943</td>\n",
       "      <td>anger</td>\n",
       "      <td>This game has pissed me off more than any othe...</td>\n",
       "    </tr>\n",
       "    <tr>\n",
       "      <th>3</th>\n",
       "      <td>10944</td>\n",
       "      <td>anger</td>\n",
       "      <td>@spamvicious I've just found out it's Candice ...</td>\n",
       "    </tr>\n",
       "    <tr>\n",
       "      <th>4</th>\n",
       "      <td>10945</td>\n",
       "      <td>anger</td>\n",
       "      <td>@moocowward @mrsajhargreaves @Melly77 @GaryBar...</td>\n",
       "    </tr>\n",
       "    <tr>\n",
       "      <th>...</th>\n",
       "      <td>...</td>\n",
       "      <td>...</td>\n",
       "      <td>...</td>\n",
       "    </tr>\n",
       "    <tr>\n",
       "      <th>7097</th>\n",
       "      <td>40781</td>\n",
       "      <td>sadness</td>\n",
       "      <td>@VivienLloyd Thank you so much! Just home - st...</td>\n",
       "    </tr>\n",
       "    <tr>\n",
       "      <th>7098</th>\n",
       "      <td>40782</td>\n",
       "      <td>sadness</td>\n",
       "      <td>Just put the winter duvet on ☃️❄️🌬☔️</td>\n",
       "    </tr>\n",
       "    <tr>\n",
       "      <th>7099</th>\n",
       "      <td>40783</td>\n",
       "      <td>sadness</td>\n",
       "      <td>@SilkInSide @TommyJoeRatliff that's so pretty!...</td>\n",
       "    </tr>\n",
       "    <tr>\n",
       "      <th>7100</th>\n",
       "      <td>40784</td>\n",
       "      <td>sadness</td>\n",
       "      <td>@BluesfestByron second artist announcement loo...</td>\n",
       "    </tr>\n",
       "    <tr>\n",
       "      <th>7101</th>\n",
       "      <td>40785</td>\n",
       "      <td>sadness</td>\n",
       "      <td>I can literally eat creamy pesto pasta topped ...</td>\n",
       "    </tr>\n",
       "  </tbody>\n",
       "</table>\n",
       "<p>7102 rows × 3 columns</p>\n",
       "</div>"
      ],
      "text/plain": [
       "         ID sentiment                                            content\n",
       "0     10941     anger  At the point today where if someone says somet...\n",
       "1     10942     anger  @CorningFootball  IT'S GAME DAY!!!!      T MIN...\n",
       "2     10943     anger  This game has pissed me off more than any othe...\n",
       "3     10944     anger  @spamvicious I've just found out it's Candice ...\n",
       "4     10945     anger  @moocowward @mrsajhargreaves @Melly77 @GaryBar...\n",
       "...     ...       ...                                                ...\n",
       "7097  40781   sadness  @VivienLloyd Thank you so much! Just home - st...\n",
       "7098  40782   sadness              Just put the winter duvet on ☃️❄️🌬☔️ \n",
       "7099  40783   sadness  @SilkInSide @TommyJoeRatliff that's so pretty!...\n",
       "7100  40784   sadness  @BluesfestByron second artist announcement loo...\n",
       "7101  40785   sadness  I can literally eat creamy pesto pasta topped ...\n",
       "\n",
       "[7102 rows x 3 columns]"
      ]
     },
     "execution_count": 8,
     "metadata": {},
     "output_type": "execute_result"
    }
   ],
   "source": [
    " # load and preprocess your data: \n",
    "data = pd.read_csv(r\"C:\\Users\\DELL\\Downloads\\archive (5)\\eng_dataset.csv\")#his line reads a CSV file called \"emotions.csv\" into a Pandas DataFrame named data. The CSV file presumably contains text data and corresponding emotion labels.\n",
    "# data= data.sample(frac=1)\n",
    "data"
   ]
  },
  {
   "cell_type": "code",
   "execution_count": 9,
   "id": "a6e6731b",
   "metadata": {},
   "outputs": [
    {
     "data": {
      "text/plain": [
       "(7102, 3)"
      ]
     },
     "execution_count": 9,
     "metadata": {},
     "output_type": "execute_result"
    }
   ],
   "source": [
    "data.shape"
   ]
  },
  {
   "cell_type": "code",
   "execution_count": 10,
   "id": "5b2aa14f",
   "metadata": {},
   "outputs": [
    {
     "name": "stderr",
     "output_type": "stream",
     "text": [
      "C:\\Users\\DELL\\AppData\\Local\\Temp\\ipykernel_21308\\2892790010.py:1: SettingWithCopyWarning: \n",
      "A value is trying to be set on a copy of a slice from a DataFrame\n",
      "\n",
      "See the caveats in the documentation: https://pandas.pydata.org/pandas-docs/stable/user_guide/indexing.html#returning-a-view-versus-a-copy\n",
      "  data['sentiment'].loc[data['sentiment']=='anger']=0.0\n",
      "C:\\Users\\DELL\\AppData\\Local\\Temp\\ipykernel_21308\\2892790010.py:2: SettingWithCopyWarning: \n",
      "A value is trying to be set on a copy of a slice from a DataFrame\n",
      "\n",
      "See the caveats in the documentation: https://pandas.pydata.org/pandas-docs/stable/user_guide/indexing.html#returning-a-view-versus-a-copy\n",
      "  data['sentiment'].loc[data['sentiment']=='fear']=1.0\n",
      "C:\\Users\\DELL\\AppData\\Local\\Temp\\ipykernel_21308\\2892790010.py:3: SettingWithCopyWarning: \n",
      "A value is trying to be set on a copy of a slice from a DataFrame\n",
      "\n",
      "See the caveats in the documentation: https://pandas.pydata.org/pandas-docs/stable/user_guide/indexing.html#returning-a-view-versus-a-copy\n",
      "  data['sentiment'].loc[data['sentiment']=='joy']=2.0\n",
      "C:\\Users\\DELL\\AppData\\Local\\Temp\\ipykernel_21308\\2892790010.py:4: SettingWithCopyWarning: \n",
      "A value is trying to be set on a copy of a slice from a DataFrame\n",
      "\n",
      "See the caveats in the documentation: https://pandas.pydata.org/pandas-docs/stable/user_guide/indexing.html#returning-a-view-versus-a-copy\n",
      "  data['sentiment'].loc[data['sentiment']=='sadness']=3.0\n"
     ]
    },
    {
     "data": {
      "text/html": [
       "<div>\n",
       "<style scoped>\n",
       "    .dataframe tbody tr th:only-of-type {\n",
       "        vertical-align: middle;\n",
       "    }\n",
       "\n",
       "    .dataframe tbody tr th {\n",
       "        vertical-align: top;\n",
       "    }\n",
       "\n",
       "    .dataframe thead th {\n",
       "        text-align: right;\n",
       "    }\n",
       "</style>\n",
       "<table border=\"1\" class=\"dataframe\">\n",
       "  <thead>\n",
       "    <tr style=\"text-align: right;\">\n",
       "      <th></th>\n",
       "      <th>ID</th>\n",
       "      <th>sentiment</th>\n",
       "      <th>content</th>\n",
       "    </tr>\n",
       "  </thead>\n",
       "  <tbody>\n",
       "    <tr>\n",
       "      <th>0</th>\n",
       "      <td>10941</td>\n",
       "      <td>0.0</td>\n",
       "      <td>At the point today where if someone says somet...</td>\n",
       "    </tr>\n",
       "    <tr>\n",
       "      <th>1</th>\n",
       "      <td>10942</td>\n",
       "      <td>0.0</td>\n",
       "      <td>@CorningFootball  IT'S GAME DAY!!!!      T MIN...</td>\n",
       "    </tr>\n",
       "    <tr>\n",
       "      <th>2</th>\n",
       "      <td>10943</td>\n",
       "      <td>0.0</td>\n",
       "      <td>This game has pissed me off more than any othe...</td>\n",
       "    </tr>\n",
       "    <tr>\n",
       "      <th>3</th>\n",
       "      <td>10944</td>\n",
       "      <td>0.0</td>\n",
       "      <td>@spamvicious I've just found out it's Candice ...</td>\n",
       "    </tr>\n",
       "    <tr>\n",
       "      <th>4</th>\n",
       "      <td>10945</td>\n",
       "      <td>0.0</td>\n",
       "      <td>@moocowward @mrsajhargreaves @Melly77 @GaryBar...</td>\n",
       "    </tr>\n",
       "    <tr>\n",
       "      <th>...</th>\n",
       "      <td>...</td>\n",
       "      <td>...</td>\n",
       "      <td>...</td>\n",
       "    </tr>\n",
       "    <tr>\n",
       "      <th>7097</th>\n",
       "      <td>40781</td>\n",
       "      <td>3.0</td>\n",
       "      <td>@VivienLloyd Thank you so much! Just home - st...</td>\n",
       "    </tr>\n",
       "    <tr>\n",
       "      <th>7098</th>\n",
       "      <td>40782</td>\n",
       "      <td>3.0</td>\n",
       "      <td>Just put the winter duvet on ☃️❄️🌬☔️</td>\n",
       "    </tr>\n",
       "    <tr>\n",
       "      <th>7099</th>\n",
       "      <td>40783</td>\n",
       "      <td>3.0</td>\n",
       "      <td>@SilkInSide @TommyJoeRatliff that's so pretty!...</td>\n",
       "    </tr>\n",
       "    <tr>\n",
       "      <th>7100</th>\n",
       "      <td>40784</td>\n",
       "      <td>3.0</td>\n",
       "      <td>@BluesfestByron second artist announcement loo...</td>\n",
       "    </tr>\n",
       "    <tr>\n",
       "      <th>7101</th>\n",
       "      <td>40785</td>\n",
       "      <td>3.0</td>\n",
       "      <td>I can literally eat creamy pesto pasta topped ...</td>\n",
       "    </tr>\n",
       "  </tbody>\n",
       "</table>\n",
       "<p>7102 rows × 3 columns</p>\n",
       "</div>"
      ],
      "text/plain": [
       "         ID  sentiment                                            content\n",
       "0     10941        0.0  At the point today where if someone says somet...\n",
       "1     10942        0.0  @CorningFootball  IT'S GAME DAY!!!!      T MIN...\n",
       "2     10943        0.0  This game has pissed me off more than any othe...\n",
       "3     10944        0.0  @spamvicious I've just found out it's Candice ...\n",
       "4     10945        0.0  @moocowward @mrsajhargreaves @Melly77 @GaryBar...\n",
       "...     ...        ...                                                ...\n",
       "7097  40781        3.0  @VivienLloyd Thank you so much! Just home - st...\n",
       "7098  40782        3.0              Just put the winter duvet on ☃️❄️🌬☔️ \n",
       "7099  40783        3.0  @SilkInSide @TommyJoeRatliff that's so pretty!...\n",
       "7100  40784        3.0  @BluesfestByron second artist announcement loo...\n",
       "7101  40785        3.0  I can literally eat creamy pesto pasta topped ...\n",
       "\n",
       "[7102 rows x 3 columns]"
      ]
     },
     "execution_count": 10,
     "metadata": {},
     "output_type": "execute_result"
    }
   ],
   "source": [
    "data['sentiment'].loc[data['sentiment']=='anger']=0.0\n",
    "data['sentiment'].loc[data['sentiment']=='fear']=1.0\n",
    "data['sentiment'].loc[data['sentiment']=='joy']=2.0\n",
    "data['sentiment'].loc[data['sentiment']=='sadness']=3.0\n",
    "data['sentiment']=np.asanyarray(data['sentiment']).astype('float64')\n",
    "\n",
    "data"
   ]
  },
  {
   "cell_type": "code",
   "execution_count": 11,
   "id": "70f1f50e",
   "metadata": {},
   "outputs": [
    {
     "data": {
      "text/plain": [
       "1.0    466\n",
       "0.0    348\n",
       "2.0    313\n",
       "3.0    294\n",
       "Name: sentiment, dtype: int64"
      ]
     },
     "execution_count": 11,
     "metadata": {},
     "output_type": "execute_result"
    }
   ],
   "source": [
    "data[\"contnet\"] = data[\"content\"].apply(preprocess_text)#It preprocesses the text data by converting it to lowercase, removing stopwords, and performing lemmatization\n",
    "\n",
    "x_train,x_test,y_train,y_test=train_test_split(data['content'],\n",
    "                                               data['sentiment'],\n",
    "                                              test_size=0.2,\n",
    "                                               random_state=2,\n",
    "                                              )\n",
    "y_test.value_counts()"
   ]
  },
  {
   "cell_type": "code",
   "execution_count": 12,
   "id": "d00e1a1f",
   "metadata": {},
   "outputs": [
    {
     "data": {
      "text/plain": [
       "(1421, 36)"
      ]
     },
     "execution_count": 12,
     "metadata": {},
     "output_type": "execute_result"
    }
   ],
   "source": [
    "tokenizer = Tokenizer()\n",
    "\n",
    "tokenizer.fit_on_texts(x_train)\n",
    "x_train_sequences = tokenizer.texts_to_sequences(x_train)\n",
    "max_len = max([len(seq) for seq in x_train_sequences])#This line calculates the maximum length of the sequences, \n",
    "x_train_padded = pad_sequences(x_train_sequences, maxlen=max_len, padding='post')\n",
    "\n",
    "x_test_sequences=tokenizer.texts_to_sequences(x_test)\n",
    "x_test_padded = pad_sequences(x_test_sequences,maxlen=max_len, padding='post')\n",
    "\n",
    "\n",
    "x_test_padded.shape"
   ]
  },
  {
   "cell_type": "code",
   "execution_count": 13,
   "id": "a9716904",
   "metadata": {},
   "outputs": [],
   "source": [
    "word_index = tokenizer.word_index"
   ]
  },
  {
   "cell_type": "code",
   "execution_count": 14,
   "id": "b05a0a9d",
   "metadata": {},
   "outputs": [],
   "source": [
    "embedding_dim = 300 #This line sets the dimensionality of the word embeddings to 100.\n",
    "embedding_matrix = np.zeros((len(word_index) + 1, embedding_dim))\n",
    "for word, i in word_index.items():\n",
    "    embedding_vector = get_embedding(word)\n",
    "    if embedding_vector is not None:\n",
    "        embedding_matrix[i] = embedding_vector   \n"
   ]
  },
  {
   "cell_type": "code",
   "execution_count": 18,
   "id": "e35ebb81",
   "metadata": {},
   "outputs": [],
   "source": [
    "\n",
    "train_size = int(data.shape[0]*0.8)"
   ]
  },
  {
   "cell_type": "code",
   "execution_count": 19,
   "id": "a77d2d22",
   "metadata": {
    "scrolled": true
   },
   "outputs": [
    {
     "name": "stdout",
     "output_type": "stream",
     "text": [
      "Epoch 1/50\n",
      "178/178 [==============================] - 32s 145ms/step - loss: 1.5650 - accuracy: 0.2603 - val_loss: 1.3852 - val_accuracy: 0.3279\n",
      "Epoch 2/50\n",
      "178/178 [==============================] - 26s 147ms/step - loss: 1.4365 - accuracy: 0.2823 - val_loss: 1.3702 - val_accuracy: 0.3279\n",
      "Epoch 3/50\n",
      "178/178 [==============================] - 25s 140ms/step - loss: 1.4047 - accuracy: 0.2957 - val_loss: 1.2610 - val_accuracy: 0.4349\n",
      "Epoch 4/50\n",
      "178/178 [==============================] - 26s 144ms/step - loss: 1.2452 - accuracy: 0.4339 - val_loss: 1.1090 - val_accuracy: 0.4856\n",
      "Epoch 5/50\n",
      "178/178 [==============================] - 25s 141ms/step - loss: 1.1317 - accuracy: 0.4756 - val_loss: 1.0430 - val_accuracy: 0.5032\n",
      "Epoch 6/50\n",
      "178/178 [==============================] - 25s 140ms/step - loss: 1.0296 - accuracy: 0.5159 - val_loss: 0.9392 - val_accuracy: 0.5567\n",
      "Epoch 7/50\n",
      "178/178 [==============================] - 25s 138ms/step - loss: 0.9278 - accuracy: 0.5774 - val_loss: 0.8624 - val_accuracy: 0.5939\n",
      "Epoch 8/50\n",
      "178/178 [==============================] - 24s 134ms/step - loss: 0.8258 - accuracy: 0.6355 - val_loss: 0.8204 - val_accuracy: 0.6714\n",
      "Epoch 9/50\n",
      "178/178 [==============================] - 24s 135ms/step - loss: 0.7356 - accuracy: 0.7164 - val_loss: 0.6854 - val_accuracy: 0.7495\n",
      "Epoch 10/50\n",
      "178/178 [==============================] - 24s 134ms/step - loss: 0.6130 - accuracy: 0.7958 - val_loss: 0.6229 - val_accuracy: 0.7854\n",
      "Epoch 11/50\n",
      "178/178 [==============================] - 23s 129ms/step - loss: 0.5337 - accuracy: 0.8215 - val_loss: 0.5426 - val_accuracy: 0.8128\n",
      "Epoch 12/50\n",
      "178/178 [==============================] - 21s 121ms/step - loss: 0.4731 - accuracy: 0.8513 - val_loss: 0.5328 - val_accuracy: 0.8093\n",
      "Epoch 13/50\n",
      "178/178 [==============================] - 21s 117ms/step - loss: 0.4473 - accuracy: 0.8594 - val_loss: 0.5244 - val_accuracy: 0.8262\n",
      "Epoch 14/50\n",
      "178/178 [==============================] - 20s 110ms/step - loss: 0.4131 - accuracy: 0.8727 - val_loss: 0.5078 - val_accuracy: 0.8269\n",
      "Epoch 15/50\n",
      "178/178 [==============================] - 22s 125ms/step - loss: 0.3751 - accuracy: 0.8763 - val_loss: 0.5425 - val_accuracy: 0.8304\n",
      "Epoch 16/50\n",
      "178/178 [==============================] - 26s 147ms/step - loss: 0.3508 - accuracy: 0.8861 - val_loss: 0.5247 - val_accuracy: 0.8170\n",
      "Epoch 17/50\n",
      "178/178 [==============================] - 26s 149ms/step - loss: 0.3213 - accuracy: 0.8991 - val_loss: 0.5063 - val_accuracy: 0.8269\n"
     ]
    }
   ],
   "source": [
    "#define and train your model:\n",
    "\n",
    "model1 = Sequential([\n",
    "    Embedding(len(word_index) + 1, embedding_dim, input_length=max_len, weights=[embedding_matrix], trainable=False),\n",
    "    LSTM(64, dropout=0.2, recurrent_dropout=0.2),\n",
    "    Dense(32, activation='relu'),\n",
    "    Dropout(0.5),\n",
    "    Dense(8, activation='softmax')\n",
    "])\n",
    "\n",
    "model1.compile(optimizer='adam', loss='sparse_categorical_crossentropy', metrics=['accuracy'])\n",
    "\n",
    "early_stopping = EarlyStopping(monitor='val_accuracy', patience=2)\n",
    "\n",
    "history = model1.fit(x_train_padded, y_train, epochs=50, validation_data=(x_test_padded,y_test), callbacks=[early_stopping])"
   ]
  },
  {
   "cell_type": "code",
   "execution_count": 20,
   "id": "01230255",
   "metadata": {},
   "outputs": [],
   "source": [
    "model1.save('emotion_classifier1.h5')"
   ]
  },
  {
   "cell_type": "code",
   "execution_count": 21,
   "id": "10e454c3",
   "metadata": {
    "scrolled": true
   },
   "outputs": [
    {
     "name": "stdout",
     "output_type": "stream",
     "text": [
      "Epoch 1/30\n",
      "178/178 [==============================] - 13s 38ms/step - loss: 1.7765 - accuracy: 0.2936 - val_loss: 1.3911 - val_accuracy: 0.3279\n",
      "Epoch 2/30\n",
      "178/178 [==============================] - 6s 32ms/step - loss: 1.3672 - accuracy: 0.3429 - val_loss: 1.2599 - val_accuracy: 0.4490\n",
      "Epoch 3/30\n",
      "178/178 [==============================] - 6s 32ms/step - loss: 1.1712 - accuracy: 0.4784 - val_loss: 1.1028 - val_accuracy: 0.4954\n",
      "Epoch 4/30\n",
      "178/178 [==============================] - 5s 28ms/step - loss: 1.0400 - accuracy: 0.5119 - val_loss: 0.9999 - val_accuracy: 0.5278\n",
      "Epoch 5/30\n",
      "178/178 [==============================] - 6s 31ms/step - loss: 0.8527 - accuracy: 0.6508 - val_loss: 0.8133 - val_accuracy: 0.6784\n",
      "Epoch 6/30\n",
      "178/178 [==============================] - 5s 31ms/step - loss: 0.7140 - accuracy: 0.7279 - val_loss: 0.7268 - val_accuracy: 0.7192\n",
      "Epoch 7/30\n",
      "178/178 [==============================] - 5s 30ms/step - loss: 0.6230 - accuracy: 0.7717 - val_loss: 0.6625 - val_accuracy: 0.7502\n",
      "Epoch 8/30\n",
      "178/178 [==============================] - 5s 29ms/step - loss: 0.5522 - accuracy: 0.8106 - val_loss: 0.6315 - val_accuracy: 0.7825\n",
      "Epoch 9/30\n",
      "178/178 [==============================] - 5s 31ms/step - loss: 0.4743 - accuracy: 0.8379 - val_loss: 0.6020 - val_accuracy: 0.7818\n",
      "Epoch 10/30\n",
      "178/178 [==============================] - 5s 27ms/step - loss: 0.4088 - accuracy: 0.8620 - val_loss: 0.5921 - val_accuracy: 0.7924\n",
      "Epoch 11/30\n",
      "178/178 [==============================] - 5s 27ms/step - loss: 0.3704 - accuracy: 0.8812 - val_loss: 0.6276 - val_accuracy: 0.7882\n",
      "Epoch 12/30\n",
      "178/178 [==============================] - 5s 30ms/step - loss: 0.3384 - accuracy: 0.8888 - val_loss: 0.5982 - val_accuracy: 0.7966\n",
      "Epoch 13/30\n",
      "178/178 [==============================] - 5s 29ms/step - loss: 0.3131 - accuracy: 0.9002 - val_loss: 0.6245 - val_accuracy: 0.7938\n",
      "Epoch 14/30\n",
      "178/178 [==============================] - 6s 32ms/step - loss: 0.2791 - accuracy: 0.9139 - val_loss: 0.5794 - val_accuracy: 0.8030\n",
      "Epoch 15/30\n",
      "178/178 [==============================] - 6s 33ms/step - loss: 0.2668 - accuracy: 0.9178 - val_loss: 0.6162 - val_accuracy: 0.7924\n",
      "Epoch 16/30\n",
      "178/178 [==============================] - 5s 30ms/step - loss: 0.2420 - accuracy: 0.9254 - val_loss: 0.6306 - val_accuracy: 0.8001\n",
      "Epoch 17/30\n",
      "178/178 [==============================] - 6s 33ms/step - loss: 0.2263 - accuracy: 0.9301 - val_loss: 0.6377 - val_accuracy: 0.8023\n",
      "Epoch 18/30\n",
      "178/178 [==============================] - 5s 30ms/step - loss: 0.2064 - accuracy: 0.9384 - val_loss: 0.6704 - val_accuracy: 0.8023\n",
      "Epoch 19/30\n",
      "178/178 [==============================] - 5s 28ms/step - loss: 0.1880 - accuracy: 0.9417 - val_loss: 0.6883 - val_accuracy: 0.8037\n",
      "Epoch 20/30\n",
      "178/178 [==============================] - 6s 33ms/step - loss: 0.1831 - accuracy: 0.9435 - val_loss: 0.7017 - val_accuracy: 0.7973\n",
      "Epoch 21/30\n",
      "178/178 [==============================] - 5s 30ms/step - loss: 0.1670 - accuracy: 0.9477 - val_loss: 0.7180 - val_accuracy: 0.7987\n",
      "Epoch 22/30\n",
      "178/178 [==============================] - 5s 29ms/step - loss: 0.1591 - accuracy: 0.9512 - val_loss: 0.7025 - val_accuracy: 0.8015\n",
      "Epoch 23/30\n",
      "178/178 [==============================] - 6s 32ms/step - loss: 0.1579 - accuracy: 0.9502 - val_loss: 0.6750 - val_accuracy: 0.7973\n",
      "Epoch 24/30\n",
      "178/178 [==============================] - 5s 31ms/step - loss: 0.1536 - accuracy: 0.9528 - val_loss: 0.6921 - val_accuracy: 0.8065\n",
      "Epoch 25/30\n",
      "178/178 [==============================] - 5s 27ms/step - loss: 0.1296 - accuracy: 0.9604 - val_loss: 0.7757 - val_accuracy: 0.7973\n",
      "Epoch 26/30\n",
      "178/178 [==============================] - 5s 30ms/step - loss: 0.1222 - accuracy: 0.9613 - val_loss: 0.7294 - val_accuracy: 0.8008\n",
      "Epoch 27/30\n",
      "178/178 [==============================] - 5s 29ms/step - loss: 0.1295 - accuracy: 0.9604 - val_loss: 0.7624 - val_accuracy: 0.7987\n",
      "Epoch 28/30\n",
      "178/178 [==============================] - 6s 34ms/step - loss: 0.1139 - accuracy: 0.9634 - val_loss: 0.7637 - val_accuracy: 0.8023\n",
      "Epoch 29/30\n",
      "178/178 [==============================] - 5s 31ms/step - loss: 0.1138 - accuracy: 0.9639 - val_loss: 0.7483 - val_accuracy: 0.8051\n",
      "Epoch 30/30\n",
      "178/178 [==============================] - 6s 31ms/step - loss: 0.1168 - accuracy: 0.9607 - val_loss: 0.8343 - val_accuracy: 0.7973\n"
     ]
    }
   ],
   "source": [
    "#define and train your model:\n",
    "\n",
    "model2 = Sequential([\n",
    "    Embedding(len(word_index) + 1, embedding_dim, input_length=max_len, weights=[embedding_matrix], trainable=False),\n",
    "    LSTM(32),\n",
    "    Dense(32, activation='linear'),\n",
    "    Activation('softmax')\n",
    "])\n",
    "\n",
    "model2.compile(optimizer='adam', loss='sparse_categorical_crossentropy', metrics=['accuracy'])\n",
    "history = model2.fit(x_train_padded, y_train, epochs=30, validation_data=(x_test_padded,y_test))\n",
    "model2.save('emotion_classifier2.h5')"
   ]
  },
  {
   "cell_type": "code",
   "execution_count": 26,
   "id": "50581fe0",
   "metadata": {
    "scrolled": true
   },
   "outputs": [
    {
     "name": "stdout",
     "output_type": "stream",
     "text": [
      "45/45 [==============================] - 1s 25ms/step\n"
     ]
    },
    {
     "data": {
      "image/png": "[encoded data removed]",
      "text/plain": [
       "<Figure size 640x480 with 2 Axes>"
      ]
     },
     "metadata": {},
     "output_type": "display_data"
    },
    {
     "name": "stdout",
     "output_type": "stream",
     "text": [
      "Model 1\n",
      "Accuracy Score 0.8268824771287826\n",
      "Percision Score[0.85139319 0.8015873  0.92932862 0.74919614]\n",
      "Recall Score[0.79022989 0.86695279 0.84025559 0.79251701]\n",
      "F1 Score[0.81967213 0.83298969 0.88255034 0.77024793]\n",
      "45/45 [==============================] - 1s 10ms/step\n"
     ]
    },
    {
     "data": {
      "image/png": "[encoded data removed]",
      "text/plain": [
       "<Figure size 640x480 with 2 Axes>"
      ]
     },
     "metadata": {},
     "output_type": "display_data"
    },
    {
     "name": "stdout",
     "output_type": "stream",
     "text": [
      "Model 2\n",
      "Accuracy Score 0.7973258268824771\n",
      "Percision Score[0.8641115  0.81410256 0.89368771 0.64383562]\n",
      "Recall Score[0.71264368 0.81759657 0.85942492 0.79931973]\n",
      "F1 Score[0.78110236 0.81584582 0.8762215  0.71320182]\n"
     ]
    }
   ],
   "source": [
    "from sklearn.metrics import accuracy_score\n",
    "from sklearn.metrics import precision_score\n",
    "from sklearn.metrics import f1_score\n",
    "from sklearn.metrics import recall_score\n",
    "from sklearn.metrics import confusion_matrix,ConfusionMatrixDisplay\n",
    "import matplotlib.pyplot as plt\n",
    "\n",
    "#Model 1\n",
    "\n",
    "y_prediction=model1.predict(x_test_padded)\n",
    "\n",
    "emotion_labels = [\"anger\", \"fear\",  \"joy\", \"sadness\"]\n",
    "y_test.loc[y_test==0.0]='anger'\n",
    "y_test.loc[y_test==1.0]='fear'\n",
    "y_test.loc[y_test==2.0]='joy'\n",
    "y_test.loc[y_test==3.0]='sadness'\n",
    "# y_prediction_emotion = emotion_labels[np.argmax(y_prediction)]\n",
    "y_prediction_emotion=[]\n",
    "for y in y_prediction:\n",
    "    prediction=emotion_labels[np.argmax(y)]\n",
    "    y_prediction_emotion.append(prediction)\n",
    "cm=confusion_matrix(y_test,y_prediction_emotion)\n",
    "disp = ConfusionMatrixDisplay(confusion_matrix=cm,\n",
    "                              display_labels=emotion_labels)\n",
    "disp.plot()\n",
    "plt.show()\n",
    "print(\"Model 1\")\n",
    "print(\"Accuracy Score \"+str(accuracy_score(y_test,y_prediction_emotion)))\n",
    "\n",
    "print(\"Percision Score\"+str(precision_score(y_test,y_prediction_emotion,\n",
    "                                            labels=emotion_labels,\n",
    "                                            average=None\n",
    "                                            )))\n",
    "print(\"Recall Score\"+str(recall_score(y_test,y_prediction_emotion,\n",
    "                                            labels=emotion_labels,\n",
    "                                            average=None\n",
    "                                            )))\n",
    "print(\"F1 Score\"+str(f1_score(y_test,y_prediction_emotion,\n",
    "                                            labels=emotion_labels,\n",
    "                                            average=None\n",
    "                                            )))\n",
    "#Model 2\n",
    "\n",
    "y_prediction=model2.predict(x_test_padded)\n",
    "\n",
    "emotion_labels = [\"anger\", \"fear\",  \"joy\", \"sadness\"]\n",
    "y_test.loc[y_test==0.0]='anger'\n",
    "y_test.loc[y_test==1.0]='fear'\n",
    "y_test.loc[y_test==2.0]='joy'\n",
    "y_test.loc[y_test==3.0]='sadness'\n",
    "# y_prediction_emotion = emotion_labels[np.argmax(y_prediction)]\n",
    "y_prediction_emotion=[]\n",
    "for y in y_prediction:\n",
    "    prediction=emotion_labels[np.argmax(y)]\n",
    "    y_prediction_emotion.append(prediction)\n",
    "cm=confusion_matrix(y_test,y_prediction_emotion)\n",
    "disp = ConfusionMatrixDisplay(confusion_matrix=cm,\n",
    "                              display_labels=emotion_labels)\n",
    "disp.plot()\n",
    "plt.show()\n",
    "print(\"Model 2\")\n",
    "print(\"Accuracy Score \"+str(accuracy_score(y_test,y_prediction_emotion)))\n",
    "\n",
    "print(\"Percision Score\"+str(precision_score(y_test,y_prediction_emotion,\n",
    "                                            labels=emotion_labels,\n",
    "                                            average=None\n",
    "                                            )))\n",
    "print(\"Recall Score\"+str(recall_score(y_test,y_prediction_emotion,\n",
    "                                            labels=emotion_labels,\n",
    "                                            average=None\n",
    "                                            )))\n",
    "print(\"F1 Score\"+str(f1_score(y_test,y_prediction_emotion,\n",
    "                                            labels=emotion_labels,\n",
    "                                            average=None\n",
    "                                            )))\n"
   ]
  },
  {
   "cell_type": "code",
   "execution_count": 23,
   "id": "f606b677",
   "metadata": {},
   "outputs": [
    {
     "name": "stdout",
     "output_type": "stream",
     "text": [
      "Model: \"sequential_11\"\n",
      "_________________________________________________________________\n",
      " Layer (type)                Output Shape              Param #   \n",
      "=================================================================\n",
      " embedding_11 (Embedding)    (None, 36, 300)           4517100   \n",
      "                                                                 \n",
      " lstm_11 (LSTM)              (None, 32)                42624     \n",
      "                                                                 \n",
      " dense_11 (Dense)            (None, 32)                1056      \n",
      "                                                                 \n",
      " activation_11 (Activation)  (None, 32)                0         \n",
      "                                                                 \n",
      "=================================================================\n",
      "Total params: 4,560,780\n",
      "Trainable params: 43,680\n",
      "Non-trainable params: 4,517,100\n",
      "_________________________________________________________________\n"
     ]
    }
   ],
   "source": [
    "from tensorflow.keras.models import load_model\n",
    "loaded_model = load_model('emotion_classifier.h5')\n",
    "loaded_model.summary()"
   ]
  },
  {
   "cell_type": "code",
   "execution_count": 198,
   "id": "a759e3cb",
   "metadata": {},
   "outputs": [],
   "source": [
    "emotion_labels = [\"anger\", \"fear\",  \"joy\", \"sadness\"]\n"
   ]
  },
  {
   "cell_type": "code",
   "execution_count": 296,
   "id": "c417ed8f",
   "metadata": {},
   "outputs": [],
   "source": [
    "def make_prediction(text):\n",
    "    text = preprocess_text(text)# converts the text to lowercase, removes stopwords, and performs lemmatization.\n",
    "    test_sequence = tokenizer.texts_to_sequences([text])#This line converts the preprocessed test text into a sequence of integers\n",
    "    test_padded_sequence = pad_sequences(test_sequence, maxlen=max_len, padding='post')#maximum sequence length \n",
    "    prediction = loaded_model.predict(test_padded_sequence)[0]#his line passes the padded test sequence through the trained model using the predict method. It returns a predicted probability distribution over the 8 emotion classes.\n",
    "    emotion_labels = [\"anger\", \"fear\",  \"joy\", \"sadness\"]\n",
    "    predicted_emotion = emotion_labels[np.argmax(prediction)]#retrieve the corresponding emotion label\n",
    "    print(predicted_emotion)"
   ]
  }
 ],
 "metadata": {
  "kernelspec": {
   "display_name": "Python 3 (ipykernel)",
   "language": "python",
   "name": "python3"
  },
  "language_info": {
   "codemirror_mode": {
    "name": "ipython",
    "version": 3
   },
   "file_extension": ".py",
   "mimetype": "text/x-python",
   "name": "python",
   "nbconvert_exporter": "python",
   "pygments_lexer": "ipython3",
   "version": "3.9.16"
  }
 },
 "nbformat": 4,
 "nbformat_minor": 5
}
