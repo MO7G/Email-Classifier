{
 "cells": [
  {
   "cell_type": "code",
   "execution_count": 1,
   "id": "f65f5810",
   "metadata": {},
   "outputs": [],
   "source": [
    "import re\n",
    "from nltk.tokenize import word_tokenize\n",
    "from nltk.corpus import stopwords\n",
    "stop_words = set(stopwords.words('english'))\n",
    "def clean(text):\n",
    "    # Lowering letters\n",
    "    text = text.lower()\n",
    "    # Removing html tags\n",
    "    text = re.sub('<[^>]*>', '', text)\n",
    "    # Removing emails\n",
    "    text = re.sub('\\S*@\\S*\\s?', '', text)\n",
    "    # Removing urls\n",
    "    text = re.sub('https?://[A-Za-z0-9]', '', text)\n",
    "    # Removing numbers\n",
    "    text = re.sub('[^a-zA-Z]', ' ', text)\n",
    "    word_tokens = word_tokenize(text)\n",
    "    filtered_sentence = []\n",
    "    for word_token in word_tokens:\n",
    "        if word_token not in stop_words:\n",
    "            filtered_sentence.append(word_token)\n",
    "\n",
    "    # Joining words\n",
    "    text = (' '.join(filtered_sentence))\n",
    "    return text"
   ]
  },
  {
   "cell_type": "code",
   "execution_count": null,
   "id": "1778cb7f",
   "metadata": {},
   "outputs": [],
   "source": []
  }
 ],
 "metadata": {
  "kernelspec": {
   "display_name": "Python 3 (ipykernel)",
   "language": "python",
   "name": "python3"
  },
  "language_info": {
   "codemirror_mode": {
    "name": "ipython",
    "version": 3
   },
   "file_extension": ".py",
   "mimetype": "text/x-python",
   "name": "python",
   "nbconvert_exporter": "python",
   "pygments_lexer": "ipython3",
   "version": "3.9.16"
  }
 },
 "nbformat": 4,
 "nbformat_minor": 5
}
