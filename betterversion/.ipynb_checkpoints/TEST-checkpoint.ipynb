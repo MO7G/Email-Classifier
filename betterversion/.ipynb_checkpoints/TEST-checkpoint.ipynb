{
 "cells": [
  {
   "cell_type": "code",
   "execution_count": 10,
   "id": "cfe2e87b",
   "metadata": {},
   "outputs": [],
   "source": [
    "import os\n",
    "import re\n",
    "import numpy as np\n",
    "import matplotlib.pyplot as plt\n",
    "import seaborn as sns; sns.set()\n",
    "from nltk.tokenize import word_tokenize\n",
    "from nltk.corpus import stopwords\n",
    "from sklearn.preprocessing import OneHotEncoder\n",
    "from sklearn.model_selection import train_test_split\n",
    "from sklearn.metrics import confusion_matrix\n",
    "from keras.utils import pad_sequences\n",
    "from keras.preprocessing.text import Tokenizer\n",
    "from keras.models import Sequential\n",
    "from keras.layers import Dense, LSTM\n",
    "from keras.layers import Embedding\n"
   ]
  },
  {
   "cell_type": "code",
   "execution_count": 20,
   "id": "4f1ac456",
   "metadata": {},
   "outputs": [],
   "source": [
    "import re\n",
    "from nltk.tokenize import word_tokenize\n",
    "from nltk.corpus import stopwords\n",
    "stop_words = set(stopwords.words('english'))\n",
    "def clean(text):\n",
    "    # Lowering letters\n",
    "    text = text.lower()\n",
    "    # Removing html tags\n",
    "    text = re.sub('<[^>]*>', '', text)\n",
    "    # Removing emails\n",
    "    text = re.sub('\\S*@\\S*\\s?', '', text)\n",
    "    # Removing urls\n",
    "    text = re.sub('https?://[A-Za-z0-9]', '', text)\n",
    "    # Removing numbers\n",
    "    text = re.sub('[^a-zA-Z]', ' ', text)\n",
    "    word_tokens = word_tokenize(text)\n",
    "    filtered_sentence = []\n",
    "    for word_token in word_tokens:\n",
    "        if word_token not in stop_words:\n",
    "            filtered_sentence.append(word_token)\n",
    "\n",
    "    # Joining words\n",
    "    text = (' '.join(filtered_sentence))\n",
    "    return text"
   ]
  },
  {
   "cell_type": "code",
   "execution_count": 21,
   "id": "6cb27f20",
   "metadata": {},
   "outputs": [],
   "source": [
    "def read_files(path):\n",
    "    file_contents = list()\n",
    "    filenames = os.listdir(path)\n",
    "\n",
    "    for i in range(len(filenames)):\n",
    "        with open(path + filenames[i]) as f:\n",
    "            file_contents.append(f.read())\n",
    "\n",
    "    return file_contents"
   ]
  },
  {
   "cell_type": "code",
   "execution_count": 25,
   "id": "69a21725",
   "metadata": {},
   "outputs": [],
   "source": [
    "class_0 = read_files('TrainingData/20news-18828/hardware/')\n",
    "class_1 = read_files('TrainingData/20news-18828/OS/')\n",
    "class_2 = read_files('TrainingData/20news-18828/vehcile/')\n",
    "class_3 = read_files('TrainingData/20news-18828/sport/')\n",
    "class_4 = read_files('TrainingData/20news-18828/med/')\n",
    "class_5 = read_files('TrainingData/20news-18828/space/')\n",
    "class_6 = read_files('TrainingData/20news-18828/religion/')\n",
    "class_7 = read_files('TrainingData/20news-18828/politics/')\n",
    "class_8 = read_files('TrainingData/20news-18828/crypt/')\n",
    "class_9 = read_files('TrainingData/20news-18828/forsale/')"
   ]
  },
  {
   "cell_type": "code",
   "execution_count": 62,
   "id": "c4967f58",
   "metadata": {},
   "outputs": [
    {
     "name": "stdout",
     "output_type": "stream",
     "text": [
      "2922\n"
     ]
    }
   ],
   "source": [
    "labels = ['hardware', 'OS', 'vehcile', 'sport','med','space','religion','politics','crypt','forsale']"
   ]
  },
  {
   "cell_type": "code",
   "execution_count": 30,
   "id": "ed437a88",
   "metadata": {},
   "outputs": [],
   "source": [
    "all_texts = np.append(class_0, class_1)\n",
    "all_texts = np.append(all_texts, class_2)\n",
    "all_texts = np.append(all_texts, class_3)\n",
    "all_texts = np.append(all_texts, class_4)\n",
    "all_texts = np.append(all_texts, class_5)\n",
    "all_texts = np.append(all_texts, class_6)\n",
    "all_texts = np.append(all_texts, class_7)\n",
    "all_texts = np.append(all_texts, class_8)\n",
    "all_texts = np.append(all_texts, class_9)"
   ]
  },
  {
   "cell_type": "code",
   "execution_count": 31,
   "id": "56b1ff38",
   "metadata": {},
   "outputs": [],
   "source": [
    "all_cleaned_texts = np.array([clean(text) for text in all_texts])\n"
   ]
  },
  {
   "cell_type": "code",
   "execution_count": null,
   "id": "423154ba",
   "metadata": {},
   "outputs": [],
   "source": []
  },
  {
   "cell_type": "code",
   "execution_count": 93,
   "id": "bebd47dd",
   "metadata": {},
   "outputs": [],
   "source": [
    "tokenizer = Tokenizer()\n",
    "tokenizer.fit_on_texts(all_cleaned_texts);"
   ]
  },
  {
   "cell_type": "code",
   "execution_count": 94,
   "id": "4e55fc36",
   "metadata": {},
   "outputs": [],
   "source": [
    "all_encoded_texts = tokenizer.texts_to_sequences(all_cleaned_texts)\n",
    "all_encoded_texts = np.array(all_encoded_texts,dtype=object)\n",
    "all_encoded_texts = pad_sequences(all_encoded_texts, maxlen=500)"
   ]
  },
  {
   "cell_type": "code",
   "execution_count": 95,
   "id": "9b896b79",
   "metadata": {},
   "outputs": [],
   "source": [
    "labels_0 = np.array([0] * len(class_0))\n",
    "labels_1 = np.array([1] * len(class_1))\n",
    "labels_2 = np.array([2] * len(class_2))\n",
    "labels_3 = np.array([3] * len(class_3))\n",
    "labels_4 = np.array([4] * len(class_4))\n",
    "labels_5 = np.array([5] * len(class_5))\n",
    "labels_6 = np.array([6] * len(class_6))\n",
    "labels_7 = np.array([7] * len(class_7))\n",
    "labels_8 = np.array([8] * len(class_8))\n",
    "labels_9 = np.array([9] * len(class_9))\n",
    "\n"
   ]
  },
  {
   "cell_type": "code",
   "execution_count": 96,
   "id": "efde0bed",
   "metadata": {},
   "outputs": [],
   "source": [
    "all_labels = np.append(labels_0, labels_1)\n",
    "all_labels = np.append(all_labels, labels_2)\n",
    "all_labels = np.append(all_labels, labels_3)\n",
    "all_labels = np.append(all_labels, labels_4)\n",
    "all_labels = np.append(all_labels, labels_5)\n",
    "all_labels = np.append(all_labels, labels_6)\n",
    "all_labels = np.append(all_labels, labels_7)\n",
    "all_labels = np.append(all_labels, labels_8)\n",
    "all_labels = np.append(all_labels, labels_9)\n"
   ]
  },
  {
   "cell_type": "code",
   "execution_count": 97,
   "id": "8fe8bd0c",
   "metadata": {},
   "outputs": [
    {
     "data": {
      "text/plain": [
       "(16929,)"
      ]
     },
     "execution_count": 97,
     "metadata": {},
     "output_type": "execute_result"
    }
   ],
   "source": [
    "all_labels.shape"
   ]
  },
  {
   "cell_type": "code",
   "execution_count": 98,
   "id": "60a1f132",
   "metadata": {},
   "outputs": [],
   "source": [
    "all_labels = all_labels[:, np.newaxis]"
   ]
  },
  {
   "cell_type": "code",
   "execution_count": 99,
   "id": "4c5ef163",
   "metadata": {},
   "outputs": [
    {
     "data": {
      "text/plain": [
       "(16929, 1)"
      ]
     },
     "execution_count": 99,
     "metadata": {},
     "output_type": "execute_result"
    }
   ],
   "source": [
    "all_labels.shape"
   ]
  },
  {
   "cell_type": "code",
   "execution_count": 100,
   "id": "e40a75e2",
   "metadata": {},
   "outputs": [],
   "source": [
    "one_hot_encoder = OneHotEncoder(sparse=False)"
   ]
  },
  {
   "cell_type": "code",
   "execution_count": 101,
   "id": "7c80c99b",
   "metadata": {},
   "outputs": [
    {
     "name": "stderr",
     "output_type": "stream",
     "text": [
      "C:\\Users\\mohda\\Anaconda3\\lib\\site-packages\\sklearn\\preprocessing\\_encoders.py:868: FutureWarning: `sparse` was renamed to `sparse_output` in version 1.2 and will be removed in 1.4. `sparse_output` is ignored unless you leave `sparse` to its default value.\n",
      "  warnings.warn(\n"
     ]
    }
   ],
   "source": [
    "all_labels = one_hot_encoder.fit_transform(all_labels)"
   ]
  },
  {
   "cell_type": "code",
   "execution_count": 102,
   "id": "cc912198",
   "metadata": {},
   "outputs": [],
   "source": [
    "X_train, X_test, y_train, y_test = train_test_split(all_encoded_texts, all_labels, test_size=0.2, random_state=11)"
   ]
  },
  {
   "cell_type": "code",
   "execution_count": 103,
   "id": "8631be1d",
   "metadata": {},
   "outputs": [
    {
     "data": {
      "text/plain": [
       "87053"
      ]
     },
     "execution_count": 103,
     "metadata": {},
     "output_type": "execute_result"
    }
   ],
   "source": [
    "len(tokenizer.word_index)"
   ]
  },
  {
   "cell_type": "code",
   "execution_count": 105,
   "id": "a887cef7",
   "metadata": {},
   "outputs": [
    {
     "name": "stdout",
     "output_type": "stream",
     "text": [
      "Epoch 1/40\n",
      "424/424 [==============================] - 75s 172ms/step - loss: 1.8115 - accuracy: 0.3380 - val_loss: 1.2746 - val_accuracy: 0.5260\n",
      "Epoch 2/40\n",
      "424/424 [==============================] - 72s 171ms/step - loss: 1.0986 - accuracy: 0.6195 - val_loss: 1.2566 - val_accuracy: 0.5538\n",
      "Epoch 3/40\n",
      "424/424 [==============================] - 74s 174ms/step - loss: 0.6755 - accuracy: 0.7650 - val_loss: 0.9769 - val_accuracy: 0.6548\n",
      "Epoch 4/40\n",
      "424/424 [==============================] - 75s 178ms/step - loss: 0.3653 - accuracy: 0.8889 - val_loss: 0.5979 - val_accuracy: 0.8157\n",
      "Epoch 5/40\n",
      "424/424 [==============================] - 75s 177ms/step - loss: 0.1509 - accuracy: 0.9592 - val_loss: 0.5388 - val_accuracy: 0.8420\n",
      "Epoch 6/40\n",
      "424/424 [==============================] - 76s 178ms/step - loss: 0.1112 - accuracy: 0.9719 - val_loss: 0.4934 - val_accuracy: 0.8618\n",
      "Epoch 7/40\n",
      "424/424 [==============================] - 76s 180ms/step - loss: 0.1503 - accuracy: 0.9578 - val_loss: 0.5785 - val_accuracy: 0.8263\n",
      "Epoch 8/40\n",
      "424/424 [==============================] - 77s 182ms/step - loss: 0.0587 - accuracy: 0.9859 - val_loss: 0.4980 - val_accuracy: 0.8701\n",
      "Epoch 9/40\n",
      "424/424 [==============================] - 77s 182ms/step - loss: 0.0257 - accuracy: 0.9950 - val_loss: 0.5079 - val_accuracy: 0.8774\n",
      "Epoch 10/40\n",
      "424/424 [==============================] - 77s 182ms/step - loss: 0.0183 - accuracy: 0.9953 - val_loss: 0.5102 - val_accuracy: 0.8757\n",
      "Epoch 11/40\n",
      "424/424 [==============================] - 77s 183ms/step - loss: 0.0284 - accuracy: 0.9936 - val_loss: 0.5473 - val_accuracy: 0.8721\n",
      "Epoch 12/40\n",
      "424/424 [==============================] - 85s 202ms/step - loss: 0.0194 - accuracy: 0.9953 - val_loss: 0.5073 - val_accuracy: 0.8845\n",
      "Epoch 13/40\n",
      "424/424 [==============================] - 81s 192ms/step - loss: 0.0365 - accuracy: 0.9908 - val_loss: 0.5319 - val_accuracy: 0.8748\n"
     ]
    }
   ],
   "source": [
    "from tensorflow.keras.optimizers.legacy import Adam\n",
    "import tensorflow as tf\n",
    "model = Sequential()\n",
    "model.add(Embedding(input_dim=len(tokenizer.word_index)+1, output_dim=32, input_length=500))\n",
    "model.add(LSTM(100))\n",
    "model.add(Dense(10, activation='sigmoid'))\n",
    "model.compile(loss='categorical_crossentropy',\n",
    "              optimizer='adam',\n",
    "              metrics=['accuracy'])\n",
    "\n",
    "callback = tf.keras.callbacks.EarlyStopping(monitor='loss', patience=3)\n",
    "history = model.fit(X_train, y_train, epochs=40, batch_size=32,callbacks=[callback], validation_data=(X_test, y_test))\n"
   ]
  },
  {
   "cell_type": "code",
   "execution_count": 106,
   "id": "a08a6c22",
   "metadata": {},
   "outputs": [
    {
     "data": {
      "image/png": "[encoded data removed]",
      "text/plain": [
       "<Figure size 900x700 with 1 Axes>"
      ]
     },
     "metadata": {},
     "output_type": "display_data"
    },
    {
     "data": {
      "image/png": "[encoded data removed]",
      "text/plain": [
       "<Figure size 900x700 with 1 Axes>"
      ]
     },
     "metadata": {},
     "output_type": "display_data"
    }
   ],
   "source": [
    "plt.figure(figsize=(9,7))\n",
    "plt.title('Accuracy score')\n",
    "plt.plot(history.history['accuracy'])\n",
    "plt.plot(history.history['val_accuracy'])\n",
    "plt.legend(['accuracy', 'val_accuracy'])\n",
    "plt.show()\n",
    "plt.figure(figsize=(9,7))\n",
    "plt.title('Loss value')\n",
    "plt.plot(history.history['loss'])\n",
    "plt.plot(history.history['val_loss'])\n",
    "plt.legend(['loss', 'val_loss'])\n",
    "plt.show()"
   ]
  },
  {
   "cell_type": "code",
   "execution_count": 107,
   "id": "0371b54f",
   "metadata": {},
   "outputs": [],
   "source": [
    "string = \"Issues central to this discipline include diplomatic relations, globalization, state sovereignty, ecological sustainability, nuclear proliferation, nationalism, economic development, global finance, international security, terrorism, and human rights.\""
   ]
  },
  {
   "cell_type": "code",
   "execution_count": 108,
   "id": "b8bf7a4e",
   "metadata": {},
   "outputs": [],
   "source": [
    "cleaned_string = clean(string)"
   ]
  },
  {
   "cell_type": "code",
   "execution_count": 109,
   "id": "fc7d5e19",
   "metadata": {},
   "outputs": [
    {
     "data": {
      "text/plain": [
       "[[757,\n",
       "  2111,\n",
       "  7513,\n",
       "  394,\n",
       "  8876,\n",
       "  2267,\n",
       "  111,\n",
       "  8342,\n",
       "  28588,\n",
       "  1376,\n",
       "  18535,\n",
       "  6914,\n",
       "  1574,\n",
       "  779,\n",
       "  2858,\n",
       "  7520,\n",
       "  754,\n",
       "  371,\n",
       "  2430,\n",
       "  254,\n",
       "  288]]"
      ]
     },
     "execution_count": 109,
     "metadata": {},
     "output_type": "execute_result"
    }
   ],
   "source": [
    "encoded_string = tokenizer.texts_to_sequences([cleaned_string])\n",
    "encoded_string"
   ]
  },
  {
   "cell_type": "code",
   "execution_count": 110,
   "id": "58d7f09f",
   "metadata": {
    "scrolled": true
   },
   "outputs": [
    {
     "data": {
      "text/plain": [
       "array([[    0,     0,     0,     0,     0,     0,     0,     0,     0,\n",
       "            0,     0,     0,     0,     0,     0,     0,     0,     0,\n",
       "            0,     0,     0,     0,     0,     0,     0,     0,     0,\n",
       "            0,     0,     0,     0,     0,     0,     0,     0,     0,\n",
       "            0,     0,     0,     0,     0,     0,     0,     0,     0,\n",
       "            0,     0,     0,     0,     0,     0,     0,     0,     0,\n",
       "            0,     0,     0,     0,     0,     0,     0,     0,     0,\n",
       "            0,     0,     0,     0,     0,     0,     0,     0,     0,\n",
       "            0,     0,     0,     0,     0,     0,     0,     0,     0,\n",
       "            0,     0,     0,     0,     0,     0,     0,     0,     0,\n",
       "            0,     0,     0,     0,     0,     0,     0,     0,     0,\n",
       "            0,     0,     0,     0,     0,     0,     0,     0,     0,\n",
       "            0,     0,     0,     0,     0,     0,     0,     0,     0,\n",
       "            0,     0,     0,     0,     0,     0,     0,     0,     0,\n",
       "            0,     0,     0,     0,     0,     0,     0,     0,     0,\n",
       "            0,     0,     0,     0,     0,     0,     0,     0,     0,\n",
       "            0,     0,     0,     0,     0,     0,     0,     0,     0,\n",
       "            0,     0,     0,     0,     0,     0,     0,     0,     0,\n",
       "            0,     0,     0,     0,     0,     0,     0,     0,     0,\n",
       "            0,     0,     0,     0,     0,     0,     0,     0,     0,\n",
       "            0,     0,     0,     0,     0,     0,     0,     0,     0,\n",
       "            0,     0,     0,     0,     0,     0,     0,     0,     0,\n",
       "            0,     0,     0,     0,     0,     0,     0,     0,     0,\n",
       "            0,     0,     0,     0,     0,     0,     0,     0,     0,\n",
       "            0,     0,     0,     0,     0,     0,     0,     0,     0,\n",
       "            0,     0,     0,     0,     0,     0,     0,     0,     0,\n",
       "            0,     0,     0,     0,     0,     0,     0,     0,     0,\n",
       "            0,     0,     0,     0,     0,     0,     0,     0,     0,\n",
       "            0,     0,     0,     0,     0,     0,     0,     0,     0,\n",
       "            0,     0,     0,     0,     0,     0,     0,     0,     0,\n",
       "            0,     0,     0,     0,     0,     0,     0,     0,     0,\n",
       "            0,     0,     0,     0,     0,     0,     0,     0,     0,\n",
       "            0,     0,     0,     0,     0,     0,     0,     0,     0,\n",
       "            0,     0,     0,     0,     0,     0,     0,     0,     0,\n",
       "            0,     0,     0,     0,     0,     0,     0,     0,     0,\n",
       "            0,     0,     0,     0,     0,     0,     0,     0,     0,\n",
       "            0,     0,     0,     0,     0,     0,     0,     0,     0,\n",
       "            0,     0,     0,     0,     0,     0,     0,     0,     0,\n",
       "            0,     0,     0,     0,     0,     0,     0,     0,     0,\n",
       "            0,     0,     0,     0,     0,     0,     0,     0,     0,\n",
       "            0,     0,     0,     0,     0,     0,     0,     0,     0,\n",
       "            0,     0,     0,     0,     0,     0,     0,     0,     0,\n",
       "            0,     0,     0,     0,     0,     0,     0,     0,     0,\n",
       "            0,     0,     0,     0,     0,     0,     0,     0,     0,\n",
       "            0,     0,     0,     0,     0,     0,     0,     0,     0,\n",
       "            0,     0,     0,     0,     0,     0,     0,     0,     0,\n",
       "            0,     0,     0,     0,     0,     0,     0,     0,     0,\n",
       "            0,     0,     0,     0,     0,     0,     0,     0,     0,\n",
       "            0,     0,     0,     0,     0,     0,     0,     0,     0,\n",
       "            0,     0,     0,     0,     0,     0,     0,     0,     0,\n",
       "            0,     0,     0,     0,     0,     0,     0,     0,     0,\n",
       "            0,     0,     0,     0,     0,     0,     0,     0,     0,\n",
       "            0,     0,     0,     0,     0,     0,     0,     0,     0,\n",
       "            0,     0,   757,  2111,  7513,   394,  8876,  2267,   111,\n",
       "         8342, 28588,  1376, 18535,  6914,  1574,   779,  2858,  7520,\n",
       "          754,   371,  2430,   254,   288]])"
      ]
     },
     "execution_count": 110,
     "metadata": {},
     "output_type": "execute_result"
    }
   ],
   "source": [
    "encoded_string = pad_sequences(encoded_string, maxlen=500)\n",
    "encoded_string"
   ]
  },
  {
   "cell_type": "code",
   "execution_count": 111,
   "id": "85580f9c",
   "metadata": {},
   "outputs": [
    {
     "name": "stdout",
     "output_type": "stream",
     "text": [
      "1/1 [==============================] - 0s 463ms/step\n"
     ]
    }
   ],
   "source": [
    "string_predict = model.predict(encoded_string)"
   ]
  },
  {
   "cell_type": "code",
   "execution_count": 112,
   "id": "60ca00a4",
   "metadata": {},
   "outputs": [
    {
     "name": "stdout",
     "output_type": "stream",
     "text": [
      "[[0.06598216 0.3376391  0.09574795 0.1926564  0.00255328 0.39766106\n",
      "  0.61917895 0.999462   0.8647662  0.02929357]]\n"
     ]
    }
   ],
   "source": [
    "print(string_predict)"
   ]
  },
  {
   "cell_type": "code",
   "execution_count": 113,
   "id": "c711efd4",
   "metadata": {},
   "outputs": [
    {
     "name": "stdout",
     "output_type": "stream",
     "text": [
      "7\n"
     ]
    }
   ],
   "source": [
    "print(np.argmax(string_predict))"
   ]
  },
  {
   "cell_type": "code",
   "execution_count": 114,
   "id": "0d80acf9",
   "metadata": {},
   "outputs": [],
   "source": [
    "import pandas as pd\n",
    "\n",
    "hist_df = pd.DataFrame(history.history) "
   ]
  },
  {
   "cell_type": "code",
   "execution_count": 115,
   "id": "411333e8",
   "metadata": {},
   "outputs": [],
   "source": [
    "hist_json_file = 'history.json' \n",
    "with open(hist_json_file, mode='w') as f:\n",
    "    hist_df.to_json(f)"
   ]
  },
  {
   "cell_type": "code",
   "execution_count": 116,
   "id": "9f064e4e",
   "metadata": {},
   "outputs": [],
   "source": [
    "hist_csv_file = 'history.csv'\n",
    "with open(hist_csv_file, mode='w') as f:\n",
    "    hist_df.to_csv(f)"
   ]
  },
  {
   "cell_type": "code",
   "execution_count": 117,
   "id": "fb60cc5a",
   "metadata": {},
   "outputs": [
    {
     "data": {
      "text/html": [
       "<div>\n",
       "<style scoped>\n",
       "    .dataframe tbody tr th:only-of-type {\n",
       "        vertical-align: middle;\n",
       "    }\n",
       "\n",
       "    .dataframe tbody tr th {\n",
       "        vertical-align: top;\n",
       "    }\n",
       "\n",
       "    .dataframe thead th {\n",
       "        text-align: right;\n",
       "    }\n",
       "</style>\n",
       "<table border=\"1\" class=\"dataframe\">\n",
       "  <thead>\n",
       "    <tr style=\"text-align: right;\">\n",
       "      <th></th>\n",
       "      <th>Unnamed: 0</th>\n",
       "      <th>loss</th>\n",
       "      <th>accuracy</th>\n",
       "      <th>val_loss</th>\n",
       "      <th>val_accuracy</th>\n",
       "    </tr>\n",
       "  </thead>\n",
       "  <tbody>\n",
       "    <tr>\n",
       "      <th>0</th>\n",
       "      <td>0</td>\n",
       "      <td>1.811453</td>\n",
       "      <td>0.337961</td>\n",
       "      <td>1.274608</td>\n",
       "      <td>0.525989</td>\n",
       "    </tr>\n",
       "    <tr>\n",
       "      <th>1</th>\n",
       "      <td>1</td>\n",
       "      <td>1.098609</td>\n",
       "      <td>0.619508</td>\n",
       "      <td>1.256619</td>\n",
       "      <td>0.553751</td>\n",
       "    </tr>\n",
       "    <tr>\n",
       "      <th>2</th>\n",
       "      <td>2</td>\n",
       "      <td>0.675477</td>\n",
       "      <td>0.765045</td>\n",
       "      <td>0.976872</td>\n",
       "      <td>0.654755</td>\n",
       "    </tr>\n",
       "    <tr>\n",
       "      <th>3</th>\n",
       "      <td>3</td>\n",
       "      <td>0.365291</td>\n",
       "      <td>0.888946</td>\n",
       "      <td>0.597892</td>\n",
       "      <td>0.815712</td>\n",
       "    </tr>\n",
       "    <tr>\n",
       "      <th>4</th>\n",
       "      <td>4</td>\n",
       "      <td>0.150943</td>\n",
       "      <td>0.959241</td>\n",
       "      <td>0.538803</td>\n",
       "      <td>0.841996</td>\n",
       "    </tr>\n",
       "    <tr>\n",
       "      <th>5</th>\n",
       "      <td>5</td>\n",
       "      <td>0.111205</td>\n",
       "      <td>0.971941</td>\n",
       "      <td>0.493418</td>\n",
       "      <td>0.861784</td>\n",
       "    </tr>\n",
       "    <tr>\n",
       "      <th>6</th>\n",
       "      <td>6</td>\n",
       "      <td>0.150262</td>\n",
       "      <td>0.957838</td>\n",
       "      <td>0.578519</td>\n",
       "      <td>0.826344</td>\n",
       "    </tr>\n",
       "    <tr>\n",
       "      <th>7</th>\n",
       "      <td>7</td>\n",
       "      <td>0.058702</td>\n",
       "      <td>0.985897</td>\n",
       "      <td>0.497991</td>\n",
       "      <td>0.870053</td>\n",
       "    </tr>\n",
       "    <tr>\n",
       "      <th>8</th>\n",
       "      <td>8</td>\n",
       "      <td>0.025661</td>\n",
       "      <td>0.994979</td>\n",
       "      <td>0.507886</td>\n",
       "      <td>0.877437</td>\n",
       "    </tr>\n",
       "    <tr>\n",
       "      <th>9</th>\n",
       "      <td>9</td>\n",
       "      <td>0.018344</td>\n",
       "      <td>0.995348</td>\n",
       "      <td>0.510188</td>\n",
       "      <td>0.875664</td>\n",
       "    </tr>\n",
       "    <tr>\n",
       "      <th>10</th>\n",
       "      <td>10</td>\n",
       "      <td>0.028387</td>\n",
       "      <td>0.993650</td>\n",
       "      <td>0.547260</td>\n",
       "      <td>0.872120</td>\n",
       "    </tr>\n",
       "    <tr>\n",
       "      <th>11</th>\n",
       "      <td>11</td>\n",
       "      <td>0.019377</td>\n",
       "      <td>0.995274</td>\n",
       "      <td>0.507337</td>\n",
       "      <td>0.884525</td>\n",
       "    </tr>\n",
       "    <tr>\n",
       "      <th>12</th>\n",
       "      <td>12</td>\n",
       "      <td>0.036455</td>\n",
       "      <td>0.990770</td>\n",
       "      <td>0.531856</td>\n",
       "      <td>0.874779</td>\n",
       "    </tr>\n",
       "  </tbody>\n",
       "</table>\n",
       "</div>"
      ],
      "text/plain": [
       "    Unnamed: 0      loss  accuracy  val_loss  val_accuracy\n",
       "0            0  1.811453  0.337961  1.274608      0.525989\n",
       "1            1  1.098609  0.619508  1.256619      0.553751\n",
       "2            2  0.675477  0.765045  0.976872      0.654755\n",
       "3            3  0.365291  0.888946  0.597892      0.815712\n",
       "4            4  0.150943  0.959241  0.538803      0.841996\n",
       "5            5  0.111205  0.971941  0.493418      0.861784\n",
       "6            6  0.150262  0.957838  0.578519      0.826344\n",
       "7            7  0.058702  0.985897  0.497991      0.870053\n",
       "8            8  0.025661  0.994979  0.507886      0.877437\n",
       "9            9  0.018344  0.995348  0.510188      0.875664\n",
       "10          10  0.028387  0.993650  0.547260      0.872120\n",
       "11          11  0.019377  0.995274  0.507337      0.884525\n",
       "12          12  0.036455  0.990770  0.531856      0.874779"
      ]
     },
     "execution_count": 117,
     "metadata": {},
     "output_type": "execute_result"
    }
   ],
   "source": [
    "pd.read_csv('history.csv') "
   ]
  },
  {
   "cell_type": "code",
   "execution_count": 118,
   "id": "bd5782e8",
   "metadata": {},
   "outputs": [],
   "source": [
    "model.save('tag_classifier.h5')\n"
   ]
  },
  {
   "cell_type": "code",
   "execution_count": null,
   "id": "5f85ca00",
   "metadata": {},
   "outputs": [],
   "source": []
  }
 ],
 "metadata": {
  "kernelspec": {
   "display_name": "Python 3 (ipykernel)",
   "language": "python",
   "name": "python3"
  },
  "language_info": {
   "codemirror_mode": {
    "name": "ipython",
    "version": 3
   },
   "file_extension": ".py",
   "mimetype": "text/x-python",
   "name": "python",
   "nbconvert_exporter": "python",
   "pygments_lexer": "ipython3",
   "version": "3.9.16"
  }
 },
 "nbformat": 4,
 "nbformat_minor": 5
}
